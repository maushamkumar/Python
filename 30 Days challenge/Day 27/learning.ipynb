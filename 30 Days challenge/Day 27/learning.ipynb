{
 "cells": [
  {
   "cell_type": "code",
   "execution_count": 4,
   "id": "fe0c62c9",
   "metadata": {},
   "outputs": [],
   "source": [
    "from sqlalchemy import create_engine, Column, Integer, String, DateTime, ForeignKey\n",
    "from sqlalchemy.orm import declarative_base\n",
    "from sqlalchemy.orm import sessionmaker, relationship\n",
    "from datetime import datetime\n",
    "\n",
    "# Create database engine \n",
    "engine = create_engine('sqlite:///example.db', echo=True)\n",
    "\n",
    "# Create base class for models \n",
    "Base = declarative_base()\n",
    "\n",
    "# Create session factory \n",
    "SessionLocal = sessionmaker(bind=engine)"
   ]
  },
  {
   "cell_type": "markdown",
   "id": "e6bd59c7",
   "metadata": {},
   "source": [
    "## 2. Creating Models (Database Tables as Python Classes)"
   ]
  },
  {
   "cell_type": "code",
   "execution_count": 12,
   "id": "e4c1f458",
   "metadata": {},
   "outputs": [
    {
     "name": "stderr",
     "output_type": "stream",
     "text": [
      "/var/folders/wg/8rqwg0nd7995t2tzgq40dsph0000gn/T/ipykernel_5102/3652125552.py:1: SAWarning: This declarative base already contains a class with the same class name and module name as __main__.User, and will be replaced in the string-lookup table.\n",
      "  class User(Base):\n"
     ]
    },
    {
     "ename": "InvalidRequestError",
     "evalue": "Table 'users' is already defined for this MetaData instance.  Specify 'extend_existing=True' to redefine options and columns on an existing Table object.",
     "output_type": "error",
     "traceback": [
      "\u001b[31m---------------------------------------------------------------------------\u001b[39m",
      "\u001b[31mInvalidRequestError\u001b[39m                       Traceback (most recent call last)",
      "\u001b[36mCell\u001b[39m\u001b[36m \u001b[39m\u001b[32mIn[12]\u001b[39m\u001b[32m, line 1\u001b[39m\n\u001b[32m----> \u001b[39m\u001b[32m1\u001b[39m \u001b[38;5;28;43;01mclass\u001b[39;49;00m\u001b[38;5;250;43m \u001b[39;49m\u001b[34;43;01mUser\u001b[39;49;00m\u001b[43m(\u001b[49m\u001b[43mBase\u001b[49m\u001b[43m)\u001b[49m\u001b[43m:\u001b[49m\n\u001b[32m      2\u001b[39m \u001b[43m    \u001b[49m\u001b[43m__tablename__\u001b[49m\u001b[43m \u001b[49m\u001b[43m=\u001b[49m\u001b[43m \u001b[49m\u001b[33;43m'\u001b[39;49m\u001b[33;43musers\u001b[39;49m\u001b[33;43m'\u001b[39;49m\n\u001b[32m      4\u001b[39m \u001b[43m    \u001b[49m\u001b[38;5;28;43mid\u001b[39;49m\u001b[43m \u001b[49m\u001b[43m=\u001b[49m\u001b[43m \u001b[49m\u001b[43mColumn\u001b[49m\u001b[43m(\u001b[49m\u001b[43mInteger\u001b[49m\u001b[43m,\u001b[49m\u001b[43m \u001b[49m\u001b[43mprimary_key\u001b[49m\u001b[43m=\u001b[49m\u001b[38;5;28;43;01mTrue\u001b[39;49;00m\u001b[43m)\u001b[49m\n",
      "\u001b[36mFile \u001b[39m\u001b[32m~/Python/.venv/lib/python3.13/site-packages/sqlalchemy/orm/decl_api.py:198\u001b[39m, in \u001b[36mDeclarativeMeta.__init__\u001b[39m\u001b[34m(cls, classname, bases, dict_, **kw)\u001b[39m\n\u001b[32m    195\u001b[39m         \u001b[38;5;28mcls\u001b[39m._sa_registry = reg\n\u001b[32m    197\u001b[39m \u001b[38;5;28;01mif\u001b[39;00m \u001b[38;5;129;01mnot\u001b[39;00m \u001b[38;5;28mcls\u001b[39m.\u001b[34m__dict__\u001b[39m.get(\u001b[33m\"\u001b[39m\u001b[33m__abstract__\u001b[39m\u001b[33m\"\u001b[39m, \u001b[38;5;28;01mFalse\u001b[39;00m):\n\u001b[32m--> \u001b[39m\u001b[32m198\u001b[39m     \u001b[43m_as_declarative\u001b[49m\u001b[43m(\u001b[49m\u001b[43mreg\u001b[49m\u001b[43m,\u001b[49m\u001b[43m \u001b[49m\u001b[38;5;28;43mcls\u001b[39;49m\u001b[43m,\u001b[49m\u001b[43m \u001b[49m\u001b[43mdict_\u001b[49m\u001b[43m)\u001b[49m\n\u001b[32m    199\u001b[39m \u001b[38;5;28mtype\u001b[39m.\u001b[34m__init__\u001b[39m(\u001b[38;5;28mcls\u001b[39m, classname, bases, dict_)\n",
      "\u001b[36mFile \u001b[39m\u001b[32m~/Python/.venv/lib/python3.13/site-packages/sqlalchemy/orm/decl_base.py:244\u001b[39m, in \u001b[36m_as_declarative\u001b[39m\u001b[34m(registry, cls, dict_)\u001b[39m\n\u001b[32m    239\u001b[39m \u001b[38;5;28;01mdef\u001b[39;00m\u001b[38;5;250m \u001b[39m\u001b[34m_as_declarative\u001b[39m(\n\u001b[32m    240\u001b[39m     registry: _RegistryType, \u001b[38;5;28mcls\u001b[39m: Type[Any], dict_: _ClassDict\n\u001b[32m    241\u001b[39m ) -> Optional[_MapperConfig]:\n\u001b[32m    242\u001b[39m     \u001b[38;5;66;03m# declarative scans the class for attributes.  no table or mapper\u001b[39;00m\n\u001b[32m    243\u001b[39m     \u001b[38;5;66;03m# args passed separately.\u001b[39;00m\n\u001b[32m--> \u001b[39m\u001b[32m244\u001b[39m     \u001b[38;5;28;01mreturn\u001b[39;00m \u001b[43m_MapperConfig\u001b[49m\u001b[43m.\u001b[49m\u001b[43msetup_mapping\u001b[49m\u001b[43m(\u001b[49m\u001b[43mregistry\u001b[49m\u001b[43m,\u001b[49m\u001b[43m \u001b[49m\u001b[38;5;28;43mcls\u001b[39;49m\u001b[43m,\u001b[49m\u001b[43m \u001b[49m\u001b[43mdict_\u001b[49m\u001b[43m,\u001b[49m\u001b[43m \u001b[49m\u001b[38;5;28;43;01mNone\u001b[39;49;00m\u001b[43m,\u001b[49m\u001b[43m \u001b[49m\u001b[43m{\u001b[49m\u001b[43m}\u001b[49m\u001b[43m)\u001b[49m\n",
      "\u001b[36mFile \u001b[39m\u001b[32m~/Python/.venv/lib/python3.13/site-packages/sqlalchemy/orm/decl_base.py:325\u001b[39m, in \u001b[36m_MapperConfig.setup_mapping\u001b[39m\u001b[34m(cls, registry, cls_, dict_, table, mapper_kw)\u001b[39m\n\u001b[32m    321\u001b[39m     \u001b[38;5;28;01mreturn\u001b[39;00m _DeferredMapperConfig(\n\u001b[32m    322\u001b[39m         registry, cls_, dict_, table, mapper_kw\n\u001b[32m    323\u001b[39m     )\n\u001b[32m    324\u001b[39m \u001b[38;5;28;01melse\u001b[39;00m:\n\u001b[32m--> \u001b[39m\u001b[32m325\u001b[39m     \u001b[38;5;28;01mreturn\u001b[39;00m \u001b[43m_ClassScanMapperConfig\u001b[49m\u001b[43m(\u001b[49m\n\u001b[32m    326\u001b[39m \u001b[43m        \u001b[49m\u001b[43mregistry\u001b[49m\u001b[43m,\u001b[49m\u001b[43m \u001b[49m\u001b[43mcls_\u001b[49m\u001b[43m,\u001b[49m\u001b[43m \u001b[49m\u001b[43mdict_\u001b[49m\u001b[43m,\u001b[49m\u001b[43m \u001b[49m\u001b[43mtable\u001b[49m\u001b[43m,\u001b[49m\u001b[43m \u001b[49m\u001b[43mmapper_kw\u001b[49m\n\u001b[32m    327\u001b[39m \u001b[43m    \u001b[49m\u001b[43m)\u001b[49m\n",
      "\u001b[36mFile \u001b[39m\u001b[32m~/Python/.venv/lib/python3.13/site-packages/sqlalchemy/orm/decl_base.py:576\u001b[39m, in \u001b[36m_ClassScanMapperConfig.__init__\u001b[39m\u001b[34m(self, registry, cls_, dict_, table, mapper_kw)\u001b[39m\n\u001b[32m    572\u001b[39m \u001b[38;5;28mself\u001b[39m._extract_mappable_attributes()\n\u001b[32m    574\u001b[39m \u001b[38;5;28mself\u001b[39m._extract_declared_columns()\n\u001b[32m--> \u001b[39m\u001b[32m576\u001b[39m \u001b[38;5;28;43mself\u001b[39;49m\u001b[43m.\u001b[49m\u001b[43m_setup_table\u001b[49m\u001b[43m(\u001b[49m\u001b[43mtable\u001b[49m\u001b[43m)\u001b[49m\n\u001b[32m    578\u001b[39m \u001b[38;5;28mself\u001b[39m._setup_inheriting_columns(mapper_kw)\n\u001b[32m    580\u001b[39m \u001b[38;5;28mself\u001b[39m._early_mapping(mapper_kw)\n",
      "\u001b[36mFile \u001b[39m\u001b[32m~/Python/.venv/lib/python3.13/site-packages/sqlalchemy/orm/decl_base.py:1755\u001b[39m, in \u001b[36m_ClassScanMapperConfig._setup_table\u001b[39m\u001b[34m(self, table)\u001b[39m\n\u001b[32m   1747\u001b[39m             table_kw[\u001b[33m\"\u001b[39m\u001b[33mautoload\u001b[39m\u001b[33m\"\u001b[39m] = \u001b[38;5;28;01mTrue\u001b[39;00m\n\u001b[32m   1749\u001b[39m         sorted_columns = \u001b[38;5;28msorted\u001b[39m(\n\u001b[32m   1750\u001b[39m             declared_columns,\n\u001b[32m   1751\u001b[39m             key=\u001b[38;5;28;01mlambda\u001b[39;00m c: column_ordering.get(c, \u001b[32m0\u001b[39m),\n\u001b[32m   1752\u001b[39m         )\n\u001b[32m   1753\u001b[39m         table = \u001b[38;5;28mself\u001b[39m.set_cls_attribute(\n\u001b[32m   1754\u001b[39m             \u001b[33m\"\u001b[39m\u001b[33m__table__\u001b[39m\u001b[33m\"\u001b[39m,\n\u001b[32m-> \u001b[39m\u001b[32m1755\u001b[39m             \u001b[43mtable_cls\u001b[49m\u001b[43m(\u001b[49m\n\u001b[32m   1756\u001b[39m \u001b[43m                \u001b[49m\u001b[43mtablename\u001b[49m\u001b[43m,\u001b[49m\n\u001b[32m   1757\u001b[39m \u001b[43m                \u001b[49m\u001b[38;5;28;43mself\u001b[39;49m\u001b[43m.\u001b[49m\u001b[43m_metadata_for_cls\u001b[49m\u001b[43m(\u001b[49m\u001b[43mmanager\u001b[49m\u001b[43m)\u001b[49m\u001b[43m,\u001b[49m\n\u001b[32m   1758\u001b[39m \u001b[43m                \u001b[49m\u001b[43m*\u001b[49m\u001b[43msorted_columns\u001b[49m\u001b[43m,\u001b[49m\n\u001b[32m   1759\u001b[39m \u001b[43m                \u001b[49m\u001b[43m*\u001b[49m\u001b[43margs\u001b[49m\u001b[43m,\u001b[49m\n\u001b[32m   1760\u001b[39m \u001b[43m                \u001b[49m\u001b[43m*\u001b[49m\u001b[43m*\u001b[49m\u001b[43mtable_kw\u001b[49m\u001b[43m,\u001b[49m\n\u001b[32m   1761\u001b[39m \u001b[43m            \u001b[49m\u001b[43m)\u001b[49m,\n\u001b[32m   1762\u001b[39m         )\n\u001b[32m   1763\u001b[39m \u001b[38;5;28;01melse\u001b[39;00m:\n\u001b[32m   1764\u001b[39m     \u001b[38;5;28;01mif\u001b[39;00m table \u001b[38;5;129;01mis\u001b[39;00m \u001b[38;5;28;01mNone\u001b[39;00m:\n",
      "\u001b[36mFile \u001b[39m\u001b[32m<string>:2\u001b[39m, in \u001b[36m__new__\u001b[39m\u001b[34m(cls, *args, **kw)\u001b[39m\n",
      "\u001b[36mFile \u001b[39m\u001b[32m~/Python/.venv/lib/python3.13/site-packages/sqlalchemy/util/deprecations.py:281\u001b[39m, in \u001b[36mdeprecated_params.<locals>.decorate.<locals>.warned\u001b[39m\u001b[34m(fn, *args, **kwargs)\u001b[39m\n\u001b[32m    274\u001b[39m     \u001b[38;5;28;01mif\u001b[39;00m m \u001b[38;5;129;01min\u001b[39;00m kwargs:\n\u001b[32m    275\u001b[39m         _warn_with_version(\n\u001b[32m    276\u001b[39m             messages[m],\n\u001b[32m    277\u001b[39m             versions[m],\n\u001b[32m    278\u001b[39m             version_warnings[m],\n\u001b[32m    279\u001b[39m             stacklevel=\u001b[32m3\u001b[39m,\n\u001b[32m    280\u001b[39m         )\n\u001b[32m--> \u001b[39m\u001b[32m281\u001b[39m \u001b[38;5;28;01mreturn\u001b[39;00m \u001b[43mfn\u001b[49m\u001b[43m(\u001b[49m\u001b[43m*\u001b[49m\u001b[43margs\u001b[49m\u001b[43m,\u001b[49m\u001b[43m \u001b[49m\u001b[43m*\u001b[49m\u001b[43m*\u001b[49m\u001b[43mkwargs\u001b[49m\u001b[43m)\u001b[49m\n",
      "\u001b[36mFile \u001b[39m\u001b[32m~/Python/.venv/lib/python3.13/site-packages/sqlalchemy/sql/schema.py:429\u001b[39m, in \u001b[36mTable.__new__\u001b[39m\u001b[34m(cls, *args, **kw)\u001b[39m\n\u001b[32m    422\u001b[39m \u001b[38;5;129m@util\u001b[39m.deprecated_params(\n\u001b[32m    423\u001b[39m     mustexist=(\n\u001b[32m    424\u001b[39m         \u001b[33m\"\u001b[39m\u001b[33m1.4\u001b[39m\u001b[33m\"\u001b[39m,\n\u001b[32m   (...)\u001b[39m\u001b[32m    427\u001b[39m )\n\u001b[32m    428\u001b[39m \u001b[38;5;28;01mdef\u001b[39;00m\u001b[38;5;250m \u001b[39m\u001b[34m__new__\u001b[39m(\u001b[38;5;28mcls\u001b[39m, *args: Any, **kw: Any) -> Any:\n\u001b[32m--> \u001b[39m\u001b[32m429\u001b[39m     \u001b[38;5;28;01mreturn\u001b[39;00m \u001b[38;5;28;43mcls\u001b[39;49m\u001b[43m.\u001b[49m\u001b[43m_new\u001b[49m\u001b[43m(\u001b[49m\u001b[43m*\u001b[49m\u001b[43margs\u001b[49m\u001b[43m,\u001b[49m\u001b[43m \u001b[49m\u001b[43m*\u001b[49m\u001b[43m*\u001b[49m\u001b[43mkw\u001b[49m\u001b[43m)\u001b[49m\n",
      "\u001b[36mFile \u001b[39m\u001b[32m~/Python/.venv/lib/python3.13/site-packages/sqlalchemy/sql/schema.py:461\u001b[39m, in \u001b[36mTable._new\u001b[39m\u001b[34m(cls, *args, **kw)\u001b[39m\n\u001b[32m    459\u001b[39m \u001b[38;5;28;01mif\u001b[39;00m key \u001b[38;5;129;01min\u001b[39;00m metadata.tables:\n\u001b[32m    460\u001b[39m     \u001b[38;5;28;01mif\u001b[39;00m \u001b[38;5;129;01mnot\u001b[39;00m keep_existing \u001b[38;5;129;01mand\u001b[39;00m \u001b[38;5;129;01mnot\u001b[39;00m extend_existing \u001b[38;5;129;01mand\u001b[39;00m \u001b[38;5;28mbool\u001b[39m(args):\n\u001b[32m--> \u001b[39m\u001b[32m461\u001b[39m         \u001b[38;5;28;01mraise\u001b[39;00m exc.InvalidRequestError(\n\u001b[32m    462\u001b[39m             \u001b[33mf\u001b[39m\u001b[33m\"\u001b[39m\u001b[33mTable \u001b[39m\u001b[33m'\u001b[39m\u001b[38;5;132;01m{\u001b[39;00mkey\u001b[38;5;132;01m}\u001b[39;00m\u001b[33m'\u001b[39m\u001b[33m is already defined for this MetaData \u001b[39m\u001b[33m\"\u001b[39m\n\u001b[32m    463\u001b[39m             \u001b[33m\"\u001b[39m\u001b[33minstance.  Specify \u001b[39m\u001b[33m'\u001b[39m\u001b[33mextend_existing=True\u001b[39m\u001b[33m'\u001b[39m\u001b[33m \u001b[39m\u001b[33m\"\u001b[39m\n\u001b[32m    464\u001b[39m             \u001b[33m\"\u001b[39m\u001b[33mto redefine \u001b[39m\u001b[33m\"\u001b[39m\n\u001b[32m    465\u001b[39m             \u001b[33m\"\u001b[39m\u001b[33moptions and columns on an \u001b[39m\u001b[33m\"\u001b[39m\n\u001b[32m    466\u001b[39m             \u001b[33m\"\u001b[39m\u001b[33mexisting Table object.\u001b[39m\u001b[33m\"\u001b[39m\n\u001b[32m    467\u001b[39m         )\n\u001b[32m    468\u001b[39m     table = metadata.tables[key]\n\u001b[32m    469\u001b[39m     \u001b[38;5;28;01mif\u001b[39;00m extend_existing:\n",
      "\u001b[31mInvalidRequestError\u001b[39m: Table 'users' is already defined for this MetaData instance.  Specify 'extend_existing=True' to redefine options and columns on an existing Table object."
     ]
    }
   ],
   "source": [
    "class User(Base):\n",
    "    __tablename__ = 'users'\n",
    "    \n",
    "    id = Column(Integer, primary_key=True)\n",
    "    username = Column(String(50), unique=True, nullable=False)\n",
    "    email = Column(String(100), unique=True, nullable=False)\n",
    "    created_at = Column(DateTime, default=datetime.utcnow)\n",
    "\n",
    "class Post(Base):\n",
    "    __tablename__ = 'posts'\n",
    "    \n",
    "    id = Column(Integer, primary_key=True)\n",
    "    title = Column(String(200), nullable=False)\n",
    "    content = Column(String(1000))\n",
    "    user_id = Column(Integer, ForeignKey('users.id'))\n",
    "    created_at = Column(DateTime, default=datetime.utcnow)\n",
    "\n",
    "# Add relationships AFTER both classes are defined\n",
    "User.posts = relationship(\"Post\", back_populates=\"author\")\n",
    "Post.author = relationship(\"User\", back_populates=\"posts\")\n",
    "\n",
    "# Create all tables\n",
    "Base.metadata.create_all(engine)"
   ]
  },
  {
   "cell_type": "markdown",
   "id": "6d1e30e6",
   "metadata": {},
   "source": [
    "## Session Management (Database Transactions)"
   ]
  },
  {
   "cell_type": "code",
   "execution_count": null,
   "id": "2c23ecd9",
   "metadata": {},
   "outputs": [],
   "source": [
    "# Create a session \n",
    "session = SessionLocal()\n",
    "\n",
    "# Always use Try/finally or context manager \n",
    "def database_operation(): \n",
    "    session = SessionLocal()\n",
    "    try: \n",
    "       session.commit() \n",
    "    except Exception as e: \n",
    "        session.rollback()\n",
    "        raise e\n",
    "    finally: \n",
    "        session.close()"
   ]
  },
  {
   "cell_type": "markdown",
   "id": "6ef749a3",
   "metadata": {},
   "source": [
    "## CRUD Operations \n",
    "#### CREATE - Adding Records"
   ]
  },
  {
   "cell_type": "code",
   "execution_count": 13,
   "id": "8682c573",
   "metadata": {},
   "outputs": [],
   "source": [
    "def create_user(username, email): \n",
    "    with SessionLocal() as session:\n",
    "        new_user = User(username=username, email=email)\n",
    "        session.add(new_user)\n",
    "        session.commit()\n",
    "        return new_user\n",
    "    \n",
    "def create_post(title, content, user_id): \n",
    "    with SessionLocal() as session: \n",
    "        new_post = Post(title=title, content=content, user_id=user_id)\n",
    "        session.add(new_post)\n",
    "        session.commit()\n",
    "        return new_post\n",
    "    \n",
    "    "
   ]
  },
  {
   "cell_type": "markdown",
   "id": "030bb26e",
   "metadata": {},
   "source": [
    "#### READ - Querying Data"
   ]
  },
  {
   "cell_type": "code",
   "execution_count": 14,
   "id": "8397ae15",
   "metadata": {},
   "outputs": [],
   "source": [
    "def get_all_users(): \n",
    "    with SessionLocal as session: \n",
    "        return session.query(User).all()\n",
    "        \n",
    "def get_user_by_id(user_id): \n",
    "    with SessionLocal as session:\n",
    "        return session.query(User).filter(User.id == user_id).first()\n",
    "        \n",
    "def get_user_by_username(username): \n",
    "    with SessionLocal as session:\n",
    "        return session.query(User).filter(User.username == username).first()\n",
    "         \n",
    "def get_posts_by_user(user_id): \n",
    "    with SessionLocal as session:\n",
    "        return session.query(Post).filter(Post.user_id == user_id).all()\n",
    "        \n"
   ]
  },
  {
   "cell_type": "markdown",
   "id": "a4966f7d",
   "metadata": {},
   "source": [
    "#### UPDATE "
   ]
  },
  {
   "cell_type": "code",
   "execution_count": 15,
   "id": "f9cfe8d2",
   "metadata": {},
   "outputs": [],
   "source": [
    "def update_user_email(user_id, new_email): \n",
    "    with SessionLocal as session: \n",
    "        user = session.query(User).filter(User.id == user_id).first()\n",
    "        if user: \n",
    "            user.email = new_email\n",
    "            session.commit()\n",
    "        return user\n",
    "    \n",
    "def update_post_title(post_id, new_title): \n",
    "    with SessionLocal() as session: \n",
    "        post = session.query(post).filter(post_id==post_id).first()\n",
    "        if post: \n",
    "            post.title = new_title\n",
    "        return post\n",
    "         "
   ]
  },
  {
   "cell_type": "markdown",
   "id": "fb4cce7d",
   "metadata": {},
   "source": [
    "#### DELETE "
   ]
  },
  {
   "cell_type": "code",
   "execution_count": 16,
   "id": "5e698a9c",
   "metadata": {},
   "outputs": [],
   "source": [
    "def delete_user(user_id): \n",
    "    with SessionLocal() as session: \n",
    "        user = session.query(User).filter(User.id == user_id).first()\n",
    "        if user: \n",
    "            session.delete(user)\n",
    "            session.commit()\n",
    "            return True\n",
    "        return False"
   ]
  },
  {
   "cell_type": "code",
   "execution_count": 17,
   "id": "9c902a00",
   "metadata": {},
   "outputs": [
    {
     "ename": "InvalidRequestError",
     "evalue": "One or more mappers failed to initialize - can't proceed with initialization of other mappers. Triggering mapper: 'Mapper[User(users)]'. Original exception was: When initializing mapper Mapper[User(users)], expression 'post' failed to locate a name ('post'). If this is a class name, consider adding this relationship() to the <class '__main__.User'> class after both dependent classes have been defined.",
     "output_type": "error",
     "traceback": [
      "\u001b[31m---------------------------------------------------------------------------\u001b[39m",
      "\u001b[31mInvalidRequestError\u001b[39m                       Traceback (most recent call last)",
      "\u001b[36mCell\u001b[39m\u001b[36m \u001b[39m\u001b[32mIn[17]\u001b[39m\u001b[32m, line 2\u001b[39m\n\u001b[32m      1\u001b[39m \u001b[38;5;66;03m# Filter with conditions\u001b[39;00m\n\u001b[32m----> \u001b[39m\u001b[32m2\u001b[39m users_with_gmail = \u001b[43msession\u001b[49m\u001b[43m.\u001b[49m\u001b[43mquery\u001b[49m\u001b[43m(\u001b[49m\u001b[43mUser\u001b[49m\u001b[43m)\u001b[49m.filter(User.email.like(\u001b[33m'\u001b[39m\u001b[33m%\u001b[39m\u001b[33m@gmail.com\u001b[39m\u001b[33m'\u001b[39m)).all()\n\u001b[32m      4\u001b[39m \u001b[38;5;66;03m# Multiple conditions\u001b[39;00m\n\u001b[32m      5\u001b[39m recent_posts = session.query(Post).filter(\n\u001b[32m      6\u001b[39m     Post.created_at > datetime(\u001b[32m2024\u001b[39m, \u001b[32m1\u001b[39m, \u001b[32m1\u001b[39m),\n\u001b[32m      7\u001b[39m     Post.title.like(\u001b[33m'\u001b[39m\u001b[33m%\u001b[39m\u001b[33mPython\u001b[39m\u001b[33m%\u001b[39m\u001b[33m'\u001b[39m)\n\u001b[32m      8\u001b[39m ).all()\n",
      "\u001b[36mFile \u001b[39m\u001b[32m~/Python/.venv/lib/python3.13/site-packages/sqlalchemy/orm/session.py:2955\u001b[39m, in \u001b[36mSession.query\u001b[39m\u001b[34m(self, *entities, **kwargs)\u001b[39m\n\u001b[32m   2935\u001b[39m \u001b[38;5;28;01mdef\u001b[39;00m\u001b[38;5;250m \u001b[39m\u001b[34mquery\u001b[39m(\n\u001b[32m   2936\u001b[39m     \u001b[38;5;28mself\u001b[39m, *entities: _ColumnsClauseArgument[Any], **kwargs: Any\n\u001b[32m   2937\u001b[39m ) -> Query[Any]:\n\u001b[32m   2938\u001b[39m \u001b[38;5;250m    \u001b[39m\u001b[33;03m\"\"\"Return a new :class:`_query.Query` object corresponding to this\u001b[39;00m\n\u001b[32m   2939\u001b[39m \u001b[33;03m    :class:`_orm.Session`.\u001b[39;00m\n\u001b[32m   2940\u001b[39m \n\u001b[32m   (...)\u001b[39m\u001b[32m   2952\u001b[39m \n\u001b[32m   2953\u001b[39m \u001b[33;03m    \"\"\"\u001b[39;00m\n\u001b[32m-> \u001b[39m\u001b[32m2955\u001b[39m     \u001b[38;5;28;01mreturn\u001b[39;00m \u001b[38;5;28;43mself\u001b[39;49m\u001b[43m.\u001b[49m\u001b[43m_query_cls\u001b[49m\u001b[43m(\u001b[49m\u001b[43mentities\u001b[49m\u001b[43m,\u001b[49m\u001b[43m \u001b[49m\u001b[38;5;28;43mself\u001b[39;49m\u001b[43m,\u001b[49m\u001b[43m \u001b[49m\u001b[43m*\u001b[49m\u001b[43m*\u001b[49m\u001b[43mkwargs\u001b[49m\u001b[43m)\u001b[49m\n",
      "\u001b[36mFile \u001b[39m\u001b[32m~/Python/.venv/lib/python3.13/site-packages/sqlalchemy/orm/query.py:276\u001b[39m, in \u001b[36mQuery.__init__\u001b[39m\u001b[34m(self, entities, session)\u001b[39m\n\u001b[32m    270\u001b[39m \u001b[38;5;66;03m# session is usually present.  There's one case in subqueryloader\u001b[39;00m\n\u001b[32m    271\u001b[39m \u001b[38;5;66;03m# where it stores a Query without a Session and also there are tests\u001b[39;00m\n\u001b[32m    272\u001b[39m \u001b[38;5;66;03m# for the query(Entity).with_session(session) API which is likely in\u001b[39;00m\n\u001b[32m    273\u001b[39m \u001b[38;5;66;03m# some old recipes, however these are legacy as select() can now be\u001b[39;00m\n\u001b[32m    274\u001b[39m \u001b[38;5;66;03m# used.\u001b[39;00m\n\u001b[32m    275\u001b[39m \u001b[38;5;28mself\u001b[39m.session = session  \u001b[38;5;66;03m# type: ignore\u001b[39;00m\n\u001b[32m--> \u001b[39m\u001b[32m276\u001b[39m \u001b[38;5;28;43mself\u001b[39;49m\u001b[43m.\u001b[49m\u001b[43m_set_entities\u001b[49m\u001b[43m(\u001b[49m\u001b[43mentities\u001b[49m\u001b[43m)\u001b[49m\n",
      "\u001b[36mFile \u001b[39m\u001b[32m~/Python/.venv/lib/python3.13/site-packages/sqlalchemy/orm/query.py:289\u001b[39m, in \u001b[36mQuery._set_entities\u001b[39m\u001b[34m(self, entities)\u001b[39m\n\u001b[32m    282\u001b[39m \u001b[38;5;28;01mdef\u001b[39;00m\u001b[38;5;250m \u001b[39m\u001b[34m_set_entities\u001b[39m(\n\u001b[32m    283\u001b[39m     \u001b[38;5;28mself\u001b[39m,\n\u001b[32m    284\u001b[39m     entities: Union[\n\u001b[32m    285\u001b[39m         _ColumnsClauseArgument[Any], Iterable[_ColumnsClauseArgument[Any]]\n\u001b[32m    286\u001b[39m     ],\n\u001b[32m    287\u001b[39m ) -> \u001b[38;5;28;01mNone\u001b[39;00m:\n\u001b[32m    288\u001b[39m     \u001b[38;5;28mself\u001b[39m._raw_columns = [\n\u001b[32m--> \u001b[39m\u001b[32m289\u001b[39m         \u001b[43mcoercions\u001b[49m\u001b[43m.\u001b[49m\u001b[43mexpect\u001b[49m\u001b[43m(\u001b[49m\n\u001b[32m    290\u001b[39m \u001b[43m            \u001b[49m\u001b[43mroles\u001b[49m\u001b[43m.\u001b[49m\u001b[43mColumnsClauseRole\u001b[49m\u001b[43m,\u001b[49m\n\u001b[32m    291\u001b[39m \u001b[43m            \u001b[49m\u001b[43ment\u001b[49m\u001b[43m,\u001b[49m\n\u001b[32m    292\u001b[39m \u001b[43m            \u001b[49m\u001b[43mapply_propagate_attrs\u001b[49m\u001b[43m=\u001b[49m\u001b[38;5;28;43mself\u001b[39;49m\u001b[43m,\u001b[49m\n\u001b[32m    293\u001b[39m \u001b[43m            \u001b[49m\u001b[43mpost_inspect\u001b[49m\u001b[43m=\u001b[49m\u001b[38;5;28;43;01mTrue\u001b[39;49;00m\u001b[43m,\u001b[49m\n\u001b[32m    294\u001b[39m \u001b[43m        \u001b[49m\u001b[43m)\u001b[49m\n\u001b[32m    295\u001b[39m         \u001b[38;5;28;01mfor\u001b[39;00m ent \u001b[38;5;129;01min\u001b[39;00m util.to_list(entities)\n\u001b[32m    296\u001b[39m     ]\n",
      "\u001b[36mFile \u001b[39m\u001b[32m~/Python/.venv/lib/python3.13/site-packages/sqlalchemy/sql/coercions.py:388\u001b[39m, in \u001b[36mexpect\u001b[39m\u001b[34m(role, element, apply_propagate_attrs, argname, post_inspect, disable_inspection, **kw)\u001b[39m\n\u001b[32m    386\u001b[39m \u001b[38;5;28;01mif\u001b[39;00m insp \u001b[38;5;129;01mis\u001b[39;00m \u001b[38;5;129;01mnot\u001b[39;00m \u001b[38;5;28;01mNone\u001b[39;00m:\n\u001b[32m    387\u001b[39m     \u001b[38;5;28;01mif\u001b[39;00m post_inspect:\n\u001b[32m--> \u001b[39m\u001b[32m388\u001b[39m         \u001b[43minsp\u001b[49m\u001b[43m.\u001b[49m\u001b[43m_post_inspect\u001b[49m\n\u001b[32m    389\u001b[39m     \u001b[38;5;28;01mtry\u001b[39;00m:\n\u001b[32m    390\u001b[39m         resolved = insp.__clause_element__()\n",
      "\u001b[36mFile \u001b[39m\u001b[32m~/Python/.venv/lib/python3.13/site-packages/sqlalchemy/util/langhelpers.py:1338\u001b[39m, in \u001b[36mHasMemoized.memoized_attribute.__get__\u001b[39m\u001b[34m(self, obj, cls)\u001b[39m\n\u001b[32m   1336\u001b[39m \u001b[38;5;28;01mif\u001b[39;00m obj \u001b[38;5;129;01mis\u001b[39;00m \u001b[38;5;28;01mNone\u001b[39;00m:\n\u001b[32m   1337\u001b[39m     \u001b[38;5;28;01mreturn\u001b[39;00m \u001b[38;5;28mself\u001b[39m\n\u001b[32m-> \u001b[39m\u001b[32m1338\u001b[39m obj.\u001b[34m__dict__\u001b[39m[\u001b[38;5;28mself\u001b[39m.\u001b[34m__name__\u001b[39m] = result = \u001b[38;5;28;43mself\u001b[39;49m\u001b[43m.\u001b[49m\u001b[43mfget\u001b[49m\u001b[43m(\u001b[49m\u001b[43mobj\u001b[49m\u001b[43m)\u001b[49m\n\u001b[32m   1339\u001b[39m obj._memoized_keys |= {\u001b[38;5;28mself\u001b[39m.\u001b[34m__name__\u001b[39m}\n\u001b[32m   1340\u001b[39m \u001b[38;5;28;01mreturn\u001b[39;00m result\n",
      "\u001b[36mFile \u001b[39m\u001b[32m~/Python/.venv/lib/python3.13/site-packages/sqlalchemy/orm/mapper.py:2724\u001b[39m, in \u001b[36mMapper._post_inspect\u001b[39m\u001b[34m(self)\u001b[39m\n\u001b[32m   2713\u001b[39m \u001b[38;5;129m@HasMemoized\u001b[39m.memoized_attribute\n\u001b[32m   2714\u001b[39m \u001b[38;5;28;01mdef\u001b[39;00m\u001b[38;5;250m \u001b[39m\u001b[34m_post_inspect\u001b[39m(\u001b[38;5;28mself\u001b[39m):\n\u001b[32m   2715\u001b[39m \u001b[38;5;250m    \u001b[39m\u001b[33;03m\"\"\"This hook is invoked by attribute inspection.\u001b[39;00m\n\u001b[32m   2716\u001b[39m \n\u001b[32m   2717\u001b[39m \u001b[33;03m    E.g. when Query calls:\u001b[39;00m\n\u001b[32m   (...)\u001b[39m\u001b[32m   2722\u001b[39m \n\u001b[32m   2723\u001b[39m \u001b[33;03m    \"\"\"\u001b[39;00m\n\u001b[32m-> \u001b[39m\u001b[32m2724\u001b[39m     \u001b[38;5;28;43mself\u001b[39;49m\u001b[43m.\u001b[49m\u001b[43m_check_configure\u001b[49m\u001b[43m(\u001b[49m\u001b[43m)\u001b[49m\n",
      "\u001b[36mFile \u001b[39m\u001b[32m~/Python/.venv/lib/python3.13/site-packages/sqlalchemy/orm/mapper.py:2401\u001b[39m, in \u001b[36mMapper._check_configure\u001b[39m\u001b[34m(self)\u001b[39m\n\u001b[32m   2393\u001b[39m \u001b[38;5;129m@util\u001b[39m.langhelpers.tag_method_for_warnings(\n\u001b[32m   2394\u001b[39m     \u001b[33m\"\u001b[39m\u001b[33mThis warning originated from the `configure_mappers()` process, \u001b[39m\u001b[33m\"\u001b[39m\n\u001b[32m   2395\u001b[39m     \u001b[33m\"\u001b[39m\u001b[33mwhich was invoked automatically in response to a user-initiated \u001b[39m\u001b[33m\"\u001b[39m\n\u001b[32m   (...)\u001b[39m\u001b[32m   2398\u001b[39m )\n\u001b[32m   2399\u001b[39m \u001b[38;5;28;01mdef\u001b[39;00m\u001b[38;5;250m \u001b[39m\u001b[34m_check_configure\u001b[39m(\u001b[38;5;28mself\u001b[39m) -> \u001b[38;5;28;01mNone\u001b[39;00m:\n\u001b[32m   2400\u001b[39m     \u001b[38;5;28;01mif\u001b[39;00m \u001b[38;5;28mself\u001b[39m.registry._new_mappers:\n\u001b[32m-> \u001b[39m\u001b[32m2401\u001b[39m         \u001b[43m_configure_registries\u001b[49m\u001b[43m(\u001b[49m\u001b[43m{\u001b[49m\u001b[38;5;28;43mself\u001b[39;49m\u001b[43m.\u001b[49m\u001b[43mregistry\u001b[49m\u001b[43m}\u001b[49m\u001b[43m,\u001b[49m\u001b[43m \u001b[49m\u001b[43mcascade\u001b[49m\u001b[43m=\u001b[49m\u001b[38;5;28;43;01mTrue\u001b[39;49;00m\u001b[43m)\u001b[49m\n",
      "\u001b[36mFile \u001b[39m\u001b[32m~/Python/.venv/lib/python3.13/site-packages/sqlalchemy/orm/mapper.py:4214\u001b[39m, in \u001b[36m_configure_registries\u001b[39m\u001b[34m(registries, cascade)\u001b[39m\n\u001b[32m   4208\u001b[39m     Mapper.dispatch._for_class(Mapper).before_configured()  \u001b[38;5;66;03m# type: ignore # noqa: E501\u001b[39;00m\n\u001b[32m   4209\u001b[39m     \u001b[38;5;66;03m# initialize properties on all mappers\u001b[39;00m\n\u001b[32m   4210\u001b[39m     \u001b[38;5;66;03m# note that _mapper_registry is unordered, which\u001b[39;00m\n\u001b[32m   4211\u001b[39m     \u001b[38;5;66;03m# may randomly conceal/reveal issues related to\u001b[39;00m\n\u001b[32m   4212\u001b[39m     \u001b[38;5;66;03m# the order of mapper compilation\u001b[39;00m\n\u001b[32m-> \u001b[39m\u001b[32m4214\u001b[39m     \u001b[43m_do_configure_registries\u001b[49m\u001b[43m(\u001b[49m\u001b[43mregistries\u001b[49m\u001b[43m,\u001b[49m\u001b[43m \u001b[49m\u001b[43mcascade\u001b[49m\u001b[43m)\u001b[49m\n\u001b[32m   4215\u001b[39m \u001b[38;5;28;01mfinally\u001b[39;00m:\n\u001b[32m   4216\u001b[39m     _already_compiling = \u001b[38;5;28;01mFalse\u001b[39;00m\n",
      "\u001b[36mFile \u001b[39m\u001b[32m~/Python/.venv/lib/python3.13/site-packages/sqlalchemy/orm/mapper.py:4251\u001b[39m, in \u001b[36m_do_configure_registries\u001b[39m\u001b[34m(registries, cascade)\u001b[39m\n\u001b[32m   4243\u001b[39m     e = sa_exc.InvalidRequestError(\n\u001b[32m   4244\u001b[39m         \u001b[33m\"\u001b[39m\u001b[33mOne or more mappers failed to initialize - \u001b[39m\u001b[33m\"\u001b[39m\n\u001b[32m   4245\u001b[39m         \u001b[33m\"\u001b[39m\u001b[33mcan\u001b[39m\u001b[33m'\u001b[39m\u001b[33mt proceed with initialization of other \u001b[39m\u001b[33m\"\u001b[39m\n\u001b[32m   (...)\u001b[39m\u001b[32m   4248\u001b[39m         % (mapper, mapper._configure_failed)\n\u001b[32m   4249\u001b[39m     )\n\u001b[32m   4250\u001b[39m     e._configure_failed = mapper._configure_failed  \u001b[38;5;66;03m# type: ignore\u001b[39;00m\n\u001b[32m-> \u001b[39m\u001b[32m4251\u001b[39m     \u001b[38;5;28;01mraise\u001b[39;00m e\n\u001b[32m   4253\u001b[39m \u001b[38;5;28;01mif\u001b[39;00m \u001b[38;5;129;01mnot\u001b[39;00m mapper.configured:\n\u001b[32m   4254\u001b[39m     \u001b[38;5;28;01mtry\u001b[39;00m:\n",
      "\u001b[31mInvalidRequestError\u001b[39m: One or more mappers failed to initialize - can't proceed with initialization of other mappers. Triggering mapper: 'Mapper[User(users)]'. Original exception was: When initializing mapper Mapper[User(users)], expression 'post' failed to locate a name ('post'). If this is a class name, consider adding this relationship() to the <class '__main__.User'> class after both dependent classes have been defined."
     ]
    }
   ],
   "source": [
    "# Filter with conditions\n",
    "users_with_gmail = session.query(User).filter(User.email.like('%@gmail.com')).all()\n",
    "\n",
    "# Multiple conditions\n",
    "recent_posts = session.query(Post).filter(\n",
    "    Post.created_at > datetime(2024, 1, 1),\n",
    "    Post.title.like('%Python%')\n",
    ").all()\n",
    "\n",
    "# Ordering\n",
    "users_by_name = session.query(User).order_by(User.username).all()\n",
    "\n",
    "# Limiting results\n",
    "first_10_users = session.query(User).limit(10).all()\n",
    "\n",
    "# Count records\n",
    "user_count = session.query(User).count()"
   ]
  },
  {
   "cell_type": "code",
   "execution_count": 18,
   "id": "38565077",
   "metadata": {},
   "outputs": [
    {
     "name": "stdout",
     "output_type": "stream",
     "text": [
      "2025-06-27 16:02:13,147 INFO sqlalchemy.engine.Engine BEGIN (implicit)\n",
      "2025-06-27 16:02:13,148 INFO sqlalchemy.engine.Engine PRAGMA main.table_info(\"users\")\n",
      "2025-06-27 16:02:13,148 INFO sqlalchemy.engine.Engine [raw sql] ()\n",
      "2025-06-27 16:02:13,150 INFO sqlalchemy.engine.Engine PRAGMA main.table_info(\"posts\")\n",
      "2025-06-27 16:02:13,150 INFO sqlalchemy.engine.Engine [raw sql] ()\n",
      "2025-06-27 16:02:13,151 INFO sqlalchemy.engine.Engine COMMIT\n",
      "2025-06-27 16:02:13,155 INFO sqlalchemy.engine.Engine BEGIN (implicit)\n",
      "2025-06-27 16:02:13,156 INFO sqlalchemy.engine.Engine INSERT INTO users (username, email, created_at) VALUES (?, ?, ?)\n",
      "2025-06-27 16:02:13,157 INFO sqlalchemy.engine.Engine [generated in 0.00031s] ('testuser', 'test@example.com', '2025-06-27 10:32:13.156805')\n",
      "2025-06-27 16:02:13,157 INFO sqlalchemy.engine.Engine ROLLBACK\n",
      "Error: (sqlite3.OperationalError) table users has no column named username\n",
      "[SQL: INSERT INTO users (username, email, created_at) VALUES (?, ?, ?)]\n",
      "[parameters: ('testuser', 'test@example.com', '2025-06-27 10:32:13.156805')]\n",
      "(Background on this error at: https://sqlalche.me/e/20/e3q8)\n"
     ]
    },
    {
     "name": "stderr",
     "output_type": "stream",
     "text": [
      "/var/folders/wg/8rqwg0nd7995t2tzgq40dsph0000gn/T/ipykernel_5102/3994768051.py:10: MovedIn20Warning: The ``declarative_base()`` function is now available as sqlalchemy.orm.declarative_base(). (deprecated since: 2.0) (Background on SQLAlchemy 2.0 at: https://sqlalche.me/e/b8d9)\n",
      "  Base = declarative_base()\n"
     ]
    }
   ],
   "source": [
    "from sqlalchemy import create_engine, Column, Integer, String, DateTime, ForeignKey\n",
    "from sqlalchemy.ext.declarative import declarative_base\n",
    "from sqlalchemy.orm import sessionmaker, relationship\n",
    "from datetime import datetime\n",
    "\n",
    "# Create database engine\n",
    "engine = create_engine('sqlite:///example.db', echo=True)\n",
    "\n",
    "# Create base class\n",
    "Base = declarative_base()\n",
    "\n",
    "# Create session factory\n",
    "SessionLocal = sessionmaker(bind=engine)\n",
    "\n",
    "# Define User model\n",
    "class User(Base):\n",
    "    __tablename__ = 'users'\n",
    "    \n",
    "    id = Column(Integer, primary_key=True)\n",
    "    username = Column(String(50), unique=True, nullable=False)\n",
    "    email = Column(String(100), unique=True, nullable=False)\n",
    "    created_at = Column(DateTime, default=datetime.utcnow)\n",
    "\n",
    "# Define Post model\n",
    "class Post(Base):\n",
    "    __tablename__ = 'posts'\n",
    "    \n",
    "    id = Column(Integer, primary_key=True)\n",
    "    title = Column(String(200), nullable=False)\n",
    "    content = Column(String(1000))\n",
    "    user_id = Column(Integer, ForeignKey('users.id'))\n",
    "    created_at = Column(DateTime, default=datetime.utcnow)\n",
    "\n",
    "# Add relationships AFTER both classes are defined\n",
    "User.posts = relationship(\"Post\", back_populates=\"author\")\n",
    "Post.author = relationship(\"User\", back_populates=\"posts\")\n",
    "\n",
    "# Create all tables\n",
    "Base.metadata.create_all(engine)\n",
    "\n",
    "# Test the setup\n",
    "if __name__ == \"__main__\":\n",
    "    # Create a session\n",
    "    session = SessionLocal()\n",
    "    \n",
    "    try:\n",
    "        # Create a test user\n",
    "        user = User(username=\"testuser\", email=\"test@example.com\")\n",
    "        session.add(user)\n",
    "        session.commit()\n",
    "        \n",
    "        # Create a test post\n",
    "        post = Post(title=\"My First Post\", content=\"Hello World!\", user_id=user.id)\n",
    "        session.add(post)\n",
    "        session.commit()\n",
    "        \n",
    "        # Query examples\n",
    "        print(\"All users:\")\n",
    "        users = session.query(User).all()\n",
    "        for u in users:\n",
    "            print(f\"  {u.username} - {u.email}\")\n",
    "        \n",
    "        print(\"\\nAll posts:\")\n",
    "        posts = session.query(Post).all()\n",
    "        for p in posts:\n",
    "            print(f\"  {p.title} by user {p.user_id}\")\n",
    "        \n",
    "        print(\"\\nUser with posts:\")\n",
    "        user_with_posts = session.query(User).filter(User.username == \"testuser\").first()\n",
    "        if user_with_posts:\n",
    "            print(f\"User: {user_with_posts.username}\")\n",
    "            for post in user_with_posts.posts:\n",
    "                print(f\"  Post: {post.title}\")\n",
    "    \n",
    "    except Exception as e:\n",
    "        print(f\"Error: {e}\")\n",
    "        session.rollback()\n",
    "    \n",
    "    finally:\n",
    "        session.close()"
   ]
  },
  {
   "cell_type": "markdown",
   "id": "f3600370",
   "metadata": {},
   "source": [
    "#### Working with Relationships "
   ]
  },
  {
   "cell_type": "code",
   "execution_count": 19,
   "id": "07286ab4",
   "metadata": {},
   "outputs": [],
   "source": [
    "# Get user with thier posts\n",
    "def get_user_with_posts(user_id): \n",
    "    with SessionLocal() as session: \n",
    "        user = session.query(User).filter(User.id == user_id).first()\n",
    "        # Access posts through relationship \n",
    "        posts = user.posts\n",
    "        return user, posts \n",
    " \n",
    "# Join queries   \n",
    "def get_posts_with_authors(): \n",
    "    with SessionLocal() as session: \n",
    "        return session.query(Post).join(User).all()\n",
    "    \n",
    "\n",
    "# Filter by related table \n",
    "def get_posts_by_username(username): \n",
    "    with SessionLocal() as session: \n",
    "        return session.query(Post).join(User).filter(User.username == username).all()"
   ]
  },
  {
   "cell_type": "code",
   "execution_count": null,
   "id": "504865a3",
   "metadata": {},
   "outputs": [],
   "source": []
  }
 ],
 "metadata": {
  "kernelspec": {
   "display_name": ".venv",
   "language": "python",
   "name": "python3"
  },
  "language_info": {
   "codemirror_mode": {
    "name": "ipython",
    "version": 3
   },
   "file_extension": ".py",
   "mimetype": "text/x-python",
   "name": "python",
   "nbconvert_exporter": "python",
   "pygments_lexer": "ipython3",
   "version": "3.13.4"
  }
 },
 "nbformat": 4,
 "nbformat_minor": 5
}
