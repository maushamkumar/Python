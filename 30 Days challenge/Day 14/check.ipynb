{
 "cells": [
  {
   "cell_type": "code",
   "execution_count": 1,
   "id": "2c830596",
   "metadata": {},
   "outputs": [],
   "source": [
    "import os "
   ]
  },
  {
   "cell_type": "code",
   "execution_count": 3,
   "id": "e88d0828",
   "metadata": {},
   "outputs": [
    {
     "data": {
      "text/plain": [
       "['Day 01', 'Day 14', 'Day 13', 'Day 12', 'Day 05', 'Day 04', 'day 11']"
      ]
     },
     "execution_count": 3,
     "metadata": {},
     "output_type": "execute_result"
    }
   ],
   "source": [
    "os.listdir(\"/Users/sanjaymahto/Python-1/30 Days challenge\")"
   ]
  },
  {
   "cell_type": "code",
   "execution_count": 5,
   "id": "2aacc2ad",
   "metadata": {},
   "outputs": [
    {
     "name": "stdout",
     "output_type": "stream",
     "text": [
      "/Users/sanjaymahto/Python-1/30 Days challenge/Day 01\n",
      "/Users/sanjaymahto/Python-1/30 Days challenge/Day 14\n",
      "/Users/sanjaymahto/Python-1/30 Days challenge/Day 13\n",
      "/Users/sanjaymahto/Python-1/30 Days challenge/Day 12\n",
      "/Users/sanjaymahto/Python-1/30 Days challenge/Day 05\n",
      "/Users/sanjaymahto/Python-1/30 Days challenge/Day 04\n",
      "/Users/sanjaymahto/Python-1/30 Days challenge/day 11\n"
     ]
    }
   ],
   "source": [
    "for item in os.listdir(\"/Users/sanjaymahto/Python-1/30 Days challenge\"):\n",
    "    item_path = os.path.join(\"/Users/sanjaymahto/Python-1/30 Days challenge\", item)\n",
    "    print(item_path)"
   ]
  },
  {
   "cell_type": "code",
   "execution_count": null,
   "id": "c0c8f0bd",
   "metadata": {},
   "outputs": [],
   "source": [
    "items = []\n",
    "indent=0\n",
    "for item in os.listdir(\"/Users/sanjaymahto/Python-1/30 Days challenge\"):\n",
    "    item_path = os.path.join(\"/Users/sanjaymahto/Python-1/30 Days challenge\", item)\n",
    "    if os.path.isdir(item_path):\n",
    "        items.append(\" \"* indent + f\"📁 {item}/\")\n",
    "        items.extend(explore(item_path, indent + 1))"
   ]
  },
  {
   "cell_type": "code",
   "execution_count": 9,
   "id": "478283e5",
   "metadata": {},
   "outputs": [
    {
     "data": {
      "text/plain": [
       "['📁 Day 01/',\n",
       " '📁 Day 14/',\n",
       " '📁 Day 13/',\n",
       " '📁 Day 12/',\n",
       " '📁 Day 05/',\n",
       " '📁 Day 04/',\n",
       " '📁 day 11/']"
      ]
     },
     "execution_count": 9,
     "metadata": {},
     "output_type": "execute_result"
    }
   ],
   "source": [
    "items"
   ]
  },
  {
   "cell_type": "code",
   "execution_count": null,
   "id": "34c9a5bd",
   "metadata": {},
   "outputs": [],
   "source": []
  }
 ],
 "metadata": {
  "kernelspec": {
   "display_name": "Python 3",
   "language": "python",
   "name": "python3"
  },
  "language_info": {
   "codemirror_mode": {
    "name": "ipython",
    "version": 3
   },
   "file_extension": ".py",
   "mimetype": "text/x-python",
   "name": "python",
   "nbconvert_exporter": "python",
   "pygments_lexer": "ipython3",
   "version": "3.11.4"
  }
 },
 "nbformat": 4,
 "nbformat_minor": 5
}
