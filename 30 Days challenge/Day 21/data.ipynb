{
 "cells": [
  {
   "cell_type": "code",
   "execution_count": 1,
   "id": "73188f58",
   "metadata": {},
   "outputs": [],
   "source": [
    "import pandas as pd"
   ]
  },
  {
   "cell_type": "code",
   "execution_count": 2,
   "id": "f7879c1a",
   "metadata": {},
   "outputs": [],
   "source": [
    "df = pd.read_csv(\"books_to_scrape_data.csv\")"
   ]
  },
  {
   "cell_type": "code",
   "execution_count": 3,
   "id": "79851677",
   "metadata": {},
   "outputs": [
    {
     "data": {
      "text/html": [
       "<div>\n",
       "<style scoped>\n",
       "    .dataframe tbody tr th:only-of-type {\n",
       "        vertical-align: middle;\n",
       "    }\n",
       "\n",
       "    .dataframe tbody tr th {\n",
       "        vertical-align: top;\n",
       "    }\n",
       "\n",
       "    .dataframe thead th {\n",
       "        text-align: right;\n",
       "    }\n",
       "</style>\n",
       "<table border=\"1\" class=\"dataframe\">\n",
       "  <thead>\n",
       "    <tr style=\"text-align: right;\">\n",
       "      <th></th>\n",
       "      <th>title</th>\n",
       "      <th>price</th>\n",
       "      <th>price_numeric</th>\n",
       "      <th>rating</th>\n",
       "      <th>availability</th>\n",
       "      <th>description</th>\n",
       "      <th>book_url</th>\n",
       "      <th>image_url</th>\n",
       "      <th>upc</th>\n",
       "      <th>product_type</th>\n",
       "      <th>price_(excl._tax)</th>\n",
       "      <th>price_(incl._tax)</th>\n",
       "      <th>tax</th>\n",
       "      <th>number_of_reviews</th>\n",
       "    </tr>\n",
       "  </thead>\n",
       "  <tbody>\n",
       "    <tr>\n",
       "      <th>0</th>\n",
       "      <td>A Light in the Attic</td>\n",
       "      <td>£51.77</td>\n",
       "      <td>51.77</td>\n",
       "      <td>3</td>\n",
       "      <td>In stock (22 available)</td>\n",
       "      <td>It's hard to imagine a world without A Light i...</td>\n",
       "      <td>http://books.toscrape.com/catalogue/a-light-in...</td>\n",
       "      <td>http://books.toscrape.com/media/cache/2c/da/2c...</td>\n",
       "      <td>a897fe39b1053632</td>\n",
       "      <td>Books</td>\n",
       "      <td>£51.77</td>\n",
       "      <td>£51.77</td>\n",
       "      <td>£0.00</td>\n",
       "      <td>0.0</td>\n",
       "    </tr>\n",
       "    <tr>\n",
       "      <th>1</th>\n",
       "      <td>Tipping the Velvet</td>\n",
       "      <td>£53.74</td>\n",
       "      <td>53.74</td>\n",
       "      <td>1</td>\n",
       "      <td>In stock (20 available)</td>\n",
       "      <td>\"Erotic and absorbing...Written with starling ...</td>\n",
       "      <td>http://books.toscrape.com/catalogue/tipping-th...</td>\n",
       "      <td>http://books.toscrape.com/media/cache/26/0c/26...</td>\n",
       "      <td>90fa61229261140a</td>\n",
       "      <td>Books</td>\n",
       "      <td>£53.74</td>\n",
       "      <td>£53.74</td>\n",
       "      <td>£0.00</td>\n",
       "      <td>0.0</td>\n",
       "    </tr>\n",
       "    <tr>\n",
       "      <th>2</th>\n",
       "      <td>Soumission</td>\n",
       "      <td>£50.10</td>\n",
       "      <td>50.10</td>\n",
       "      <td>1</td>\n",
       "      <td>In stock (20 available)</td>\n",
       "      <td>Dans une France assez proche de la nôtre, un h...</td>\n",
       "      <td>http://books.toscrape.com/catalogue/soumission...</td>\n",
       "      <td>http://books.toscrape.com/media/cache/3e/ef/3e...</td>\n",
       "      <td>6957f44c3847a760</td>\n",
       "      <td>Books</td>\n",
       "      <td>£50.10</td>\n",
       "      <td>£50.10</td>\n",
       "      <td>£0.00</td>\n",
       "      <td>0.0</td>\n",
       "    </tr>\n",
       "    <tr>\n",
       "      <th>3</th>\n",
       "      <td>Sharp Objects</td>\n",
       "      <td>£47.82</td>\n",
       "      <td>47.82</td>\n",
       "      <td>4</td>\n",
       "      <td>In stock (20 available)</td>\n",
       "      <td>WICKED above her hipbone, GIRL across her hear...</td>\n",
       "      <td>http://books.toscrape.com/catalogue/sharp-obje...</td>\n",
       "      <td>http://books.toscrape.com/media/cache/32/51/32...</td>\n",
       "      <td>e00eb4fd7b871a48</td>\n",
       "      <td>Books</td>\n",
       "      <td>£47.82</td>\n",
       "      <td>£47.82</td>\n",
       "      <td>£0.00</td>\n",
       "      <td>0.0</td>\n",
       "    </tr>\n",
       "    <tr>\n",
       "      <th>4</th>\n",
       "      <td>Sapiens: A Brief History of Humankind</td>\n",
       "      <td>£54.23</td>\n",
       "      <td>54.23</td>\n",
       "      <td>5</td>\n",
       "      <td>In stock (20 available)</td>\n",
       "      <td>From a renowned historian comes a groundbreaki...</td>\n",
       "      <td>http://books.toscrape.com/catalogue/sapiens-a-...</td>\n",
       "      <td>http://books.toscrape.com/media/cache/be/a5/be...</td>\n",
       "      <td>4165285e1663650f</td>\n",
       "      <td>Books</td>\n",
       "      <td>£54.23</td>\n",
       "      <td>£54.23</td>\n",
       "      <td>£0.00</td>\n",
       "      <td>0.0</td>\n",
       "    </tr>\n",
       "  </tbody>\n",
       "</table>\n",
       "</div>"
      ],
      "text/plain": [
       "                                   title   price  price_numeric  rating  \\\n",
       "0                   A Light in the Attic  £51.77          51.77       3   \n",
       "1                     Tipping the Velvet  £53.74          53.74       1   \n",
       "2                             Soumission  £50.10          50.10       1   \n",
       "3                          Sharp Objects  £47.82          47.82       4   \n",
       "4  Sapiens: A Brief History of Humankind  £54.23          54.23       5   \n",
       "\n",
       "              availability                                        description  \\\n",
       "0  In stock (22 available)  It's hard to imagine a world without A Light i...   \n",
       "1  In stock (20 available)  \"Erotic and absorbing...Written with starling ...   \n",
       "2  In stock (20 available)  Dans une France assez proche de la nôtre, un h...   \n",
       "3  In stock (20 available)  WICKED above her hipbone, GIRL across her hear...   \n",
       "4  In stock (20 available)  From a renowned historian comes a groundbreaki...   \n",
       "\n",
       "                                            book_url  \\\n",
       "0  http://books.toscrape.com/catalogue/a-light-in...   \n",
       "1  http://books.toscrape.com/catalogue/tipping-th...   \n",
       "2  http://books.toscrape.com/catalogue/soumission...   \n",
       "3  http://books.toscrape.com/catalogue/sharp-obje...   \n",
       "4  http://books.toscrape.com/catalogue/sapiens-a-...   \n",
       "\n",
       "                                           image_url               upc  \\\n",
       "0  http://books.toscrape.com/media/cache/2c/da/2c...  a897fe39b1053632   \n",
       "1  http://books.toscrape.com/media/cache/26/0c/26...  90fa61229261140a   \n",
       "2  http://books.toscrape.com/media/cache/3e/ef/3e...  6957f44c3847a760   \n",
       "3  http://books.toscrape.com/media/cache/32/51/32...  e00eb4fd7b871a48   \n",
       "4  http://books.toscrape.com/media/cache/be/a5/be...  4165285e1663650f   \n",
       "\n",
       "  product_type price_(excl._tax) price_(incl._tax)    tax  number_of_reviews  \n",
       "0        Books            £51.77            £51.77  £0.00                0.0  \n",
       "1        Books            £53.74            £53.74  £0.00                0.0  \n",
       "2        Books            £50.10            £50.10  £0.00                0.0  \n",
       "3        Books            £47.82            £47.82  £0.00                0.0  \n",
       "4        Books            £54.23            £54.23  £0.00                0.0  "
      ]
     },
     "execution_count": 3,
     "metadata": {},
     "output_type": "execute_result"
    }
   ],
   "source": [
    "df.head()"
   ]
  },
  {
   "cell_type": "code",
   "execution_count": 4,
   "id": "b2ee60c4",
   "metadata": {},
   "outputs": [
    {
     "data": {
      "text/plain": [
       "(1000, 14)"
      ]
     },
     "execution_count": 4,
     "metadata": {},
     "output_type": "execute_result"
    }
   ],
   "source": [
    "df.shape"
   ]
  },
  {
   "cell_type": "code",
   "execution_count": 5,
   "id": "ef3c7c6e",
   "metadata": {},
   "outputs": [
    {
     "data": {
      "text/plain": [
       "Index(['title', 'price', 'price_numeric', 'rating', 'availability',\n",
       "       'description', 'book_url', 'image_url', 'upc', 'product_type',\n",
       "       'price_(excl._tax)', 'price_(incl._tax)', 'tax', 'number_of_reviews'],\n",
       "      dtype='object')"
      ]
     },
     "execution_count": 5,
     "metadata": {},
     "output_type": "execute_result"
    }
   ],
   "source": [
    "df.columns"
   ]
  },
  {
   "cell_type": "code",
   "execution_count": 6,
   "id": "9e6741a9",
   "metadata": {},
   "outputs": [
    {
     "name": "stdout",
     "output_type": "stream",
     "text": [
      "<class 'pandas.core.frame.DataFrame'>\n",
      "RangeIndex: 1000 entries, 0 to 999\n",
      "Data columns (total 14 columns):\n",
      " #   Column             Non-Null Count  Dtype  \n",
      "---  ------             --------------  -----  \n",
      " 0   title              1000 non-null   object \n",
      " 1   price              1000 non-null   object \n",
      " 2   price_numeric      1000 non-null   float64\n",
      " 3   rating             1000 non-null   int64  \n",
      " 4   availability       1000 non-null   object \n",
      " 5   description        20 non-null     object \n",
      " 6   book_url           1000 non-null   object \n",
      " 7   image_url          1000 non-null   object \n",
      " 8   upc                20 non-null     object \n",
      " 9   product_type       20 non-null     object \n",
      " 10  price_(excl._tax)  20 non-null     object \n",
      " 11  price_(incl._tax)  20 non-null     object \n",
      " 12  tax                20 non-null     object \n",
      " 13  number_of_reviews  20 non-null     float64\n",
      "dtypes: float64(2), int64(1), object(11)\n",
      "memory usage: 109.5+ KB\n"
     ]
    }
   ],
   "source": [
    "df.info()"
   ]
  },
  {
   "cell_type": "code",
   "execution_count": null,
   "id": "b2aed027",
   "metadata": {},
   "outputs": [],
   "source": []
  }
 ],
 "metadata": {
  "kernelspec": {
   "display_name": ".venv",
   "language": "python",
   "name": "python3"
  },
  "language_info": {
   "codemirror_mode": {
    "name": "ipython",
    "version": 3
   },
   "file_extension": ".py",
   "mimetype": "text/x-python",
   "name": "python",
   "nbconvert_exporter": "python",
   "pygments_lexer": "ipython3",
   "version": "3.9.13"
  }
 },
 "nbformat": 4,
 "nbformat_minor": 5
}
