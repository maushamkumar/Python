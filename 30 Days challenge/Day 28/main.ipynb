{
 "cells": [
  {
   "cell_type": "markdown",
   "id": "1db2224e",
   "metadata": {},
   "source": [
    "#### Naming Conventions"
   ]
  },
  {
   "cell_type": "code",
   "execution_count": 2,
   "id": "d8e0069a",
   "metadata": {},
   "outputs": [],
   "source": [
    "# This is bad\n",
    "# represents the number of active users\n",
    "au = 55\n",
    "\n",
    "# This is good\n",
    "active_user_amount = 55"
   ]
  },
  {
   "cell_type": "code",
   "execution_count": 3,
   "id": "e55ebf0e",
   "metadata": {},
   "outputs": [],
   "source": [
    "user_name = \"Mausham\"\n",
    "total_amount = 1500\n",
    "is_active = True\n"
   ]
  },
  {
   "cell_type": "markdown",
   "id": "59cc8727",
   "metadata": {},
   "source": [
    "### Variables\n",
    "\n",
    "#### 1. Use nouns for variable names\n",
    "### 2. Use descriptive/intention-revealing names\n",
    "Other developers should be able to figure out what a variable stores just by reading its name."
   ]
  },
  {
   "cell_type": "code",
   "execution_count": 4,
   "id": "d1d6a002",
   "metadata": {},
   "outputs": [],
   "source": [
    "# This is bad\n",
    "c = 5\n",
    "d = 12\n",
    "\n",
    "# This is good\n",
    "city_counter = 5\n",
    "elapsed_time_in_days = 12"
   ]
  },
  {
   "cell_type": "markdown",
   "id": "12be4b0b",
   "metadata": {},
   "source": [
    "### 3. Use pronounceable names\n",
    "You should always use pronounceable names; otherwise, you'll have a hard time explaining your algorithms out loud.\n",
    "\n"
   ]
  },
  {
   "cell_type": "code",
   "execution_count": 5,
   "id": "f47676a0",
   "metadata": {},
   "outputs": [],
   "source": [
    "from datetime import datetime\n",
    "\n",
    "# This is bad\n",
    "genyyyymmddhhmmss = datetime.strptime('04/27/95 07:14:22', '%m/%d/%y %H:%M:%S')\n",
    "\n",
    "# This is good\n",
    "generation_datetime = datetime.strptime('04/27/95 07:14:22', '%m/%d/%y %H:%M:%S')"
   ]
  },
  {
   "cell_type": "markdown",
   "id": "52dc595c",
   "metadata": {},
   "source": [
    "### 4. Avoid using ambiguous abbreviations\n",
    "Don't try to come up with your own abbreviations. It's better for a variable to have a longer name than a confusing name."
   ]
  },
  {
   "cell_type": "code",
   "execution_count": null,
   "id": "ecfebc74",
   "metadata": {},
   "outputs": [],
   "source": [
    "# This is bad\n",
    "fna = 'Mausham'\n",
    "cre_tmstp = 1621535852\n",
    "\n",
    "# This is good\n",
    "first_name = 'Mausham'\n",
    "creation_timestamp = 1621535852"
   ]
  },
  {
   "cell_type": "markdown",
   "id": "105c4ea1",
   "metadata": {},
   "source": [
    "### 5. Always use the same vocabulary\n",
    "Avoid using synonyms when naming variables."
   ]
  },
  {
   "cell_type": "code",
   "execution_count": 7,
   "id": "49e46c55",
   "metadata": {},
   "outputs": [],
   "source": [
    "# This is bad\n",
    "client_first_name = 'Mausham'\n",
    "customer_last_name = 'Kumar'\n",
    "\n",
    "# This is good\n",
    "client_first_name = 'Mausham'\n",
    "client_last_name = 'Kumar'"
   ]
  },
  {
   "cell_type": "markdown",
   "id": "779be57b",
   "metadata": {},
   "source": [
    "### 6. Don't use \"magic numbers\"\n",
    "Magic numbers are strange numbers that appear in code, which do not have a clear meaning. Let's take a look at an example:"
   ]
  },
  {
   "cell_type": "code",
   "execution_count": 8,
   "id": "06edc6e9",
   "metadata": {},
   "outputs": [],
   "source": [
    "import random\n",
    "\n",
    "# This is bad\n",
    "def roll():\n",
    "    return random.randint(0, 36)  # what is 36 supposed to represent?\n",
    "\n",
    "# This is good\n",
    "ROULETTE_POCKET_COUNT = 36\n",
    "\n",
    "def roll():\n",
    "    return random.randint(0, ROULETTE_POCKET_COUNT)"
   ]
  },
  {
   "cell_type": "markdown",
   "id": "2e3d234c",
   "metadata": {},
   "source": [
    "### 7. Use solution domain names\n",
    "If you use a lot of different data types in your algorithm or class and you can't figure them out from the variable name itself, don't be afraid to add data type suffix to your variable name. For example:"
   ]
  },
  {
   "cell_type": "code",
   "execution_count": 9,
   "id": "f19e2dc2",
   "metadata": {},
   "outputs": [],
   "source": [
    "# This is good\n",
    "score_list = [12, 33, 14, 24]\n",
    "word_dict = {\n",
    "    'a': 'apple',\n",
    "    'b': 'banana',\n",
    "    'c': 'cherry',\n",
    "}"
   ]
  },
  {
   "cell_type": "markdown",
   "id": "722a62f9",
   "metadata": {},
   "source": [
    "And here's a bad example (because you can't figure out the data type from the variable name):"
   ]
  },
  {
   "cell_type": "code",
   "execution_count": 10,
   "id": "53a57108",
   "metadata": {},
   "outputs": [],
   "source": [
    "# This is bad\n",
    "names = [\"Nick\", \"Mike\", \"John\"]"
   ]
  },
  {
   "cell_type": "markdown",
   "id": "845b4a95",
   "metadata": {},
   "source": [
    "### 8. Don't add redundant context\n",
    "Do not add unnecessary data to variable names, especially if you're working with classes."
   ]
  },
  {
   "cell_type": "code",
   "execution_count": 11,
   "id": "c2821819",
   "metadata": {},
   "outputs": [],
   "source": [
    "# This is bad\n",
    "class Person:\n",
    "    def __init__(self, person_first_name, person_last_name, person_age):\n",
    "        self.person_first_name = person_first_name\n",
    "        self.person_last_name = person_last_name\n",
    "        self.person_age = person_age\n",
    "\n",
    "\n",
    "# This is good\n",
    "class Person:\n",
    "    def __init__(self, first_name, last_name, age):\n",
    "        self.first_name = first_name\n",
    "        self.last_name = last_name\n",
    "        self.age = age"
   ]
  },
  {
   "cell_type": "markdown",
   "id": "3d653356",
   "metadata": {},
   "source": [
    "We're already inside the `Person` class, so there's no need to add a `person_` prefix to every class variable.\n",
    "\n"
   ]
  },
  {
   "cell_type": "markdown",
   "id": "372f25e7",
   "metadata": {},
   "source": [
    "### Functions\n",
    "#### 1. Use verbs for function names\n",
    "#### 2. Do not use different words for the same concept\n",
    "Pick a word for each concept and stick to it. Using different words for the same concept will cause confusion."
   ]
  },
  {
   "cell_type": "code",
   "execution_count": 12,
   "id": "32ab55e1",
   "metadata": {},
   "outputs": [],
   "source": [
    "# This is bad\n",
    "def get_name(): pass\n",
    "def fetch_age(): pass\n",
    "\n",
    "# This is good\n",
    "def get_name(): pass\n",
    "def get_age(): pass"
   ]
  },
  {
   "cell_type": "markdown",
   "id": "6b0b8dd9",
   "metadata": {},
   "source": [
    "#### 3. Write short and simple functions\n",
    "#### 4. Functions should only perform a single task\n",
    "If your function contains the keyword 'and' you can probably split it into two functions. Let's look at an example:"
   ]
  },
  {
   "cell_type": "code",
   "execution_count": 14,
   "id": "098b15fa",
   "metadata": {},
   "outputs": [],
   "source": [
    "# This is bad\n",
    "def fetch_and_display_personnel():\n",
    "    data = ''# ...\n",
    "\n",
    "    for person in data:\n",
    "        print(person)\n",
    "\n",
    "\n",
    "# This is good\n",
    "def fetch_personnel():\n",
    "    return # ...\n",
    "\n",
    "def display_personnel(data):\n",
    "    for person in data:\n",
    "        print(person)"
   ]
  },
  {
   "cell_type": "markdown",
   "id": "ce48564b",
   "metadata": {},
   "source": [
    "#### 5. Keep your arguments at a minimum\n",
    "The arguments in your function should be kept to a minimum. Ideally, your functions should only have one to two arguments. If you need to provide more arguments to the function, you can create a config object which you pass to the function or split it into multiple functions.\n",
    "\n",
    "\n",
    "Example:"
   ]
  },
  {
   "cell_type": "code",
   "execution_count": 18,
   "id": "7763ab02",
   "metadata": {},
   "outputs": [],
   "source": [
    "# This is bad\n",
    "def render_blog_post(title, author, created_timestamp, updated_timestamp, content):\n",
    "    pass\n",
    "    # ...\n",
    "\n",
    "kuch = render_blog_post(\"Clean code\", \"Nik Tomazic\", 1622148362, 1622148362, \"...\")\n",
    "\n",
    "\n",
    "# This is good\n",
    "class BlogPost:\n",
    "    def __init__(self, title, author, created_timestamp, updated_timestamp, content):\n",
    "        self.title = title\n",
    "        self.author = author\n",
    "        self.created_timestamp = created_timestamp\n",
    "        self.updated_timestamp = updated_timestamp\n",
    "        self.content = content\n",
    "\n",
    "blog_post1 = BlogPost(\"Clean code\", \"Nik Tomazic\", 1622148362, 1622148362, \"...\")\n",
    "\n",
    "def render_blog_post(blog_post):\n",
    "    pass\n",
    "    # ...\n",
    "\n",
    "render_blog_post(blog_post1)"
   ]
  },
  {
   "cell_type": "code",
   "execution_count": null,
   "id": "491ee6ca",
   "metadata": {},
   "outputs": [],
   "source": []
  }
 ],
 "metadata": {
  "kernelspec": {
   "display_name": ".venv",
   "language": "python",
   "name": "python3"
  },
  "language_info": {
   "codemirror_mode": {
    "name": "ipython",
    "version": 3
   },
   "file_extension": ".py",
   "mimetype": "text/x-python",
   "name": "python",
   "nbconvert_exporter": "python",
   "pygments_lexer": "ipython3",
   "version": "3.13.4"
  }
 },
 "nbformat": 4,
 "nbformat_minor": 5
}
