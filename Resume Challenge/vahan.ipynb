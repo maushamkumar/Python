{
 "cells": [
  {
   "cell_type": "code",
   "execution_count": 1,
   "id": "ca3649e0",
   "metadata": {},
   "outputs": [],
   "source": [
    "import pandas as pd \n",
    "import seaborn as sns \n",
    "import matplotlib.pyplot as plt"
   ]
  },
  {
   "cell_type": "code",
   "execution_count": 2,
   "id": "9aca108f",
   "metadata": {},
   "outputs": [],
   "source": [
    "df = pd.read_csv('vahan.csv')"
   ]
  },
  {
   "cell_type": "code",
   "execution_count": 3,
   "id": "eae38c66",
   "metadata": {},
   "outputs": [
    {
     "data": {
      "text/html": [
       "<div>\n",
       "<style scoped>\n",
       "    .dataframe tbody tr th:only-of-type {\n",
       "        vertical-align: middle;\n",
       "    }\n",
       "\n",
       "    .dataframe tbody tr th {\n",
       "        vertical-align: top;\n",
       "    }\n",
       "\n",
       "    .dataframe thead th {\n",
       "        text-align: right;\n",
       "    }\n",
       "</style>\n",
       "<table border=\"1\" class=\"dataframe\">\n",
       "  <thead>\n",
       "    <tr style=\"text-align: right;\">\n",
       "      <th></th>\n",
       "      <th>year</th>\n",
       "      <th>month</th>\n",
       "      <th>state</th>\n",
       "      <th>rto</th>\n",
       "      <th>vehicle_class</th>\n",
       "      <th>fuel</th>\n",
       "      <th>value</th>\n",
       "      <th>unit</th>\n",
       "      <th>note</th>\n",
       "    </tr>\n",
       "  </thead>\n",
       "  <tbody>\n",
       "    <tr>\n",
       "      <th>0</th>\n",
       "      <td>2025</td>\n",
       "      <td>April</td>\n",
       "      <td>Andaman and Nicobar Islands</td>\n",
       "      <td>All Vahan Running Office</td>\n",
       "      <td>BUS</td>\n",
       "      <td>DIESEL</td>\n",
       "      <td>2</td>\n",
       "      <td>value in Absolute Number</td>\n",
       "      <td>NaN</td>\n",
       "    </tr>\n",
       "    <tr>\n",
       "      <th>1</th>\n",
       "      <td>2025</td>\n",
       "      <td>April</td>\n",
       "      <td>Andaman and Nicobar Islands</td>\n",
       "      <td>All Vahan Running Office</td>\n",
       "      <td>GOODS CARRIER</td>\n",
       "      <td>DIESEL</td>\n",
       "      <td>23</td>\n",
       "      <td>value in Absolute Number</td>\n",
       "      <td>NaN</td>\n",
       "    </tr>\n",
       "    <tr>\n",
       "      <th>2</th>\n",
       "      <td>2025</td>\n",
       "      <td>April</td>\n",
       "      <td>Andaman and Nicobar Islands</td>\n",
       "      <td>All Vahan Running Office</td>\n",
       "      <td>GOODS CARRIER</td>\n",
       "      <td>PETROL</td>\n",
       "      <td>1</td>\n",
       "      <td>value in Absolute Number</td>\n",
       "      <td>NaN</td>\n",
       "    </tr>\n",
       "    <tr>\n",
       "      <th>3</th>\n",
       "      <td>2025</td>\n",
       "      <td>April</td>\n",
       "      <td>Andaman and Nicobar Islands</td>\n",
       "      <td>All Vahan Running Office</td>\n",
       "      <td>M-CYCLE/SCOOTER</td>\n",
       "      <td>ELECTRIC(BOV)</td>\n",
       "      <td>1</td>\n",
       "      <td>value in Absolute Number</td>\n",
       "      <td>NaN</td>\n",
       "    </tr>\n",
       "    <tr>\n",
       "      <th>4</th>\n",
       "      <td>2025</td>\n",
       "      <td>April</td>\n",
       "      <td>Andaman and Nicobar Islands</td>\n",
       "      <td>All Vahan Running Office</td>\n",
       "      <td>M-CYCLE/SCOOTER</td>\n",
       "      <td>PETROL</td>\n",
       "      <td>387</td>\n",
       "      <td>value in Absolute Number</td>\n",
       "      <td>NaN</td>\n",
       "    </tr>\n",
       "  </tbody>\n",
       "</table>\n",
       "</div>"
      ],
      "text/plain": [
       "   year  month                        state                       rto  \\\n",
       "0  2025  April  Andaman and Nicobar Islands  All Vahan Running Office   \n",
       "1  2025  April  Andaman and Nicobar Islands  All Vahan Running Office   \n",
       "2  2025  April  Andaman and Nicobar Islands  All Vahan Running Office   \n",
       "3  2025  April  Andaman and Nicobar Islands  All Vahan Running Office   \n",
       "4  2025  April  Andaman and Nicobar Islands  All Vahan Running Office   \n",
       "\n",
       "     vehicle_class           fuel  value                      unit  note  \n",
       "0              BUS         DIESEL      2  value in Absolute Number   NaN  \n",
       "1    GOODS CARRIER         DIESEL     23  value in Absolute Number   NaN  \n",
       "2    GOODS CARRIER         PETROL      1  value in Absolute Number   NaN  \n",
       "3  M-CYCLE/SCOOTER  ELECTRIC(BOV)      1  value in Absolute Number   NaN  \n",
       "4  M-CYCLE/SCOOTER         PETROL    387  value in Absolute Number   NaN  "
      ]
     },
     "execution_count": 3,
     "metadata": {},
     "output_type": "execute_result"
    }
   ],
   "source": [
    "df.head()"
   ]
  },
  {
   "cell_type": "code",
   "execution_count": 7,
   "id": "4ee59df0",
   "metadata": {},
   "outputs": [
    {
     "data": {
      "text/plain": [
       "fuel\n",
       "DIESEL                22961\n",
       "PETROL                12951\n",
       "ELECTRIC(BOV)          8691\n",
       "CNG ONLY               4651\n",
       "PETROL/CNG             3760\n",
       "PETROL/HYBRID          2959\n",
       "PURE EV                2251\n",
       "PETROL/ETHANOL         1820\n",
       "NOT APPLICABLE         1577\n",
       "STRONG HYBRID EV        943\n",
       "DIESEL/HYBRID           868\n",
       "PETROL/LPG              663\n",
       "LPG ONLY                492\n",
       "ETHANOL                 118\n",
       "LNG                      76\n",
       "PLUG-IN HYBRID EV        45\n",
       "FUEL CELL HYDROGEN        8\n",
       "DUAL DIESEL/LNG           4\n",
       "DUAL DIESEL/CNG           2\n",
       "SOLAR                     1\n",
       "Name: count, dtype: int64"
      ]
     },
     "execution_count": 7,
     "metadata": {},
     "output_type": "execute_result"
    }
   ],
   "source": [
    "df['fuel'].value_counts()"
   ]
  },
  {
   "cell_type": "code",
   "execution_count": 6,
   "id": "e8e69913",
   "metadata": {},
   "outputs": [
    {
     "data": {
      "text/plain": [
       "vehicle_class\n",
       "MOTOR CAR                           7885\n",
       "MOTOR CAB                           5233\n",
       "GOODS CARRIER                       4836\n",
       "THREE WHEELER (PASSENGER)           4640\n",
       "M-CYCLE/SCOOTER                     3957\n",
       "                                    ... \n",
       "MOTOR CARAVAN                          8\n",
       "PULLER TRACTOR                         7\n",
       "BULLDOZER                              5\n",
       "MOTOR CYCLE/SCOOTER-WITH TRAILER       5\n",
       "TREE TRIMMING VEHICLE                  4\n",
       "Name: count, Length: 72, dtype: int64"
      ]
     },
     "execution_count": 6,
     "metadata": {},
     "output_type": "execute_result"
    }
   ],
   "source": [
    "df['vehicle_class'].value_counts()"
   ]
  },
  {
   "cell_type": "code",
   "execution_count": 5,
   "id": "1086da20",
   "metadata": {},
   "outputs": [
    {
     "data": {
      "text/plain": [
       "rto\n",
       "All Vahan Running Office    64841\n",
       "Name: count, dtype: int64"
      ]
     },
     "execution_count": 5,
     "metadata": {},
     "output_type": "execute_result"
    }
   ],
   "source": [
    "df['rto'].value_counts()"
   ]
  },
  {
   "cell_type": "code",
   "execution_count": 4,
   "id": "6451c73f",
   "metadata": {},
   "outputs": [
    {
     "data": {
      "text/plain": [
       "state\n",
       "Karnataka                                   3519\n",
       "Maharashtra                                 3224\n",
       "Rajasthan                                   3142\n",
       "Gujarat                                     3034\n",
       "Uttar Pradesh                               2998\n",
       "Tamil Nadu                                  2945\n",
       "West Bengal                                 2799\n",
       "Haryana                                     2699\n",
       "Madhya Pradesh                              2670\n",
       "Kerala                                      2666\n",
       "Andhra Pradesh                              2549\n",
       "Odisha                                      2485\n",
       "Bihar                                       2107\n",
       "Jharkhand                                   2105\n",
       "Chhattisgarh                                2026\n",
       "Assam                                       2024\n",
       "Punjab                                      1998\n",
       "Uttarakhand                                 1887\n",
       "Himachal Pradesh                            1788\n",
       "Jammu and Kashmir                           1617\n",
       "Goa                                         1497\n",
       "Delhi                                       1410\n",
       "Dadra and Nagar Haveli and Daman and Diu    1353\n",
       "Chandigarh                                  1278\n",
       "Puducherry                                  1255\n",
       "Tripura                                     1251\n",
       "Arunachal Pradesh                           1091\n",
       "Meghalaya                                   1059\n",
       "Nagaland                                     757\n",
       "Mizoram                                      743\n",
       "Ladakh                                       739\n",
       "Andaman and Nicobar Islands                  720\n",
       "Manipur                                      698\n",
       "Sikkim                                       613\n",
       "Lakshadweep                                   95\n",
       "Name: count, dtype: int64"
      ]
     },
     "execution_count": 4,
     "metadata": {},
     "output_type": "execute_result"
    }
   ],
   "source": [
    "df['state'].value_counts()"
   ]
  },
  {
   "cell_type": "code",
   "execution_count": 5,
   "id": "6929b17d",
   "metadata": {},
   "outputs": [
    {
     "data": {
      "text/plain": [
       "fuel\n",
       "DIESEL                22961\n",
       "PETROL                12951\n",
       "ELECTRIC(BOV)          8691\n",
       "CNG ONLY               4651\n",
       "PETROL/CNG             3760\n",
       "PETROL/HYBRID          2959\n",
       "PURE EV                2251\n",
       "PETROL/ETHANOL         1820\n",
       "NOT APPLICABLE         1577\n",
       "STRONG HYBRID EV        943\n",
       "DIESEL/HYBRID           868\n",
       "PETROL/LPG              663\n",
       "LPG ONLY                492\n",
       "ETHANOL                 118\n",
       "LNG                      76\n",
       "PLUG-IN HYBRID EV        45\n",
       "FUEL CELL HYDROGEN        8\n",
       "DUAL DIESEL/LNG           4\n",
       "DUAL DIESEL/CNG           2\n",
       "SOLAR                     1\n",
       "Name: count, dtype: int64"
      ]
     },
     "execution_count": 5,
     "metadata": {},
     "output_type": "execute_result"
    }
   ],
   "source": [
    "df['fuel'].value_counts()"
   ]
  },
  {
   "cell_type": "code",
   "execution_count": 6,
   "id": "a6d8ca63",
   "metadata": {},
   "outputs": [
    {
     "data": {
      "text/plain": [
       "unit\n",
       "value in Absolute Number    64841\n",
       "Name: count, dtype: int64"
      ]
     },
     "execution_count": 6,
     "metadata": {},
     "output_type": "execute_result"
    }
   ],
   "source": [
    "df['unit'].value_counts()"
   ]
  },
  {
   "cell_type": "code",
   "execution_count": 7,
   "id": "54ded70f",
   "metadata": {},
   "outputs": [
    {
     "data": {
      "text/plain": [
       "Series([], Name: count, dtype: int64)"
      ]
     },
     "execution_count": 7,
     "metadata": {},
     "output_type": "execute_result"
    }
   ],
   "source": [
    "df['note'].value_counts(\n",
    "    \n",
    "    \n",
    ")"
   ]
  },
  {
   "cell_type": "code",
   "execution_count": 8,
   "id": "bd38855b",
   "metadata": {},
   "outputs": [
    {
     "data": {
      "text/plain": [
       "(64841, 9)"
      ]
     },
     "execution_count": 8,
     "metadata": {},
     "output_type": "execute_result"
    }
   ],
   "source": [
    "df.shape"
   ]
  },
  {
   "cell_type": "code",
   "execution_count": 9,
   "id": "9c6c7c42",
   "metadata": {},
   "outputs": [
    {
     "data": {
      "text/plain": [
       "year                 0\n",
       "month                0\n",
       "state                0\n",
       "rto                  0\n",
       "vehicle_class        0\n",
       "fuel                 0\n",
       "value                0\n",
       "unit                 0\n",
       "note             64841\n",
       "dtype: int64"
      ]
     },
     "execution_count": 9,
     "metadata": {},
     "output_type": "execute_result"
    }
   ],
   "source": [
    "df.isnull().sum()"
   ]
  },
  {
   "cell_type": "code",
   "execution_count": null,
   "id": "98ae07b0",
   "metadata": {},
   "outputs": [],
   "source": []
  }
 ],
 "metadata": {
  "kernelspec": {
   "display_name": ".venv",
   "language": "python",
   "name": "python3"
  },
  "language_info": {
   "codemirror_mode": {
    "name": "ipython",
    "version": 3
   },
   "file_extension": ".py",
   "mimetype": "text/x-python",
   "name": "python",
   "nbconvert_exporter": "python",
   "pygments_lexer": "ipython3",
   "version": "3.13.4"
  }
 },
 "nbformat": 4,
 "nbformat_minor": 5
}
