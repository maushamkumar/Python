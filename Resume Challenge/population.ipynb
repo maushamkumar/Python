{
 "cells": [
  {
   "cell_type": "code",
   "execution_count": 1,
   "id": "399ef6b1",
   "metadata": {},
   "outputs": [],
   "source": [
    "import pandas as pd \n",
    "import seaborn as sns \n",
    "import matplotlib.pyplot as plt "
   ]
  },
  {
   "cell_type": "code",
   "execution_count": 2,
   "id": "87c8ba6d",
   "metadata": {},
   "outputs": [],
   "source": [
    "df = pd.read_csv('population_projection.csv')"
   ]
  },
  {
   "cell_type": "code",
   "execution_count": 3,
   "id": "dde2e434",
   "metadata": {},
   "outputs": [
    {
     "data": {
      "text/html": [
       "<div>\n",
       "<style scoped>\n",
       "    .dataframe tbody tr th:only-of-type {\n",
       "        vertical-align: middle;\n",
       "    }\n",
       "\n",
       "    .dataframe tbody tr th {\n",
       "        vertical-align: top;\n",
       "    }\n",
       "\n",
       "    .dataframe thead th {\n",
       "        text-align: right;\n",
       "    }\n",
       "</style>\n",
       "<table border=\"1\" class=\"dataframe\">\n",
       "  <thead>\n",
       "    <tr style=\"text-align: right;\">\n",
       "      <th></th>\n",
       "      <th>year</th>\n",
       "      <th>month</th>\n",
       "      <th>state</th>\n",
       "      <th>gender</th>\n",
       "      <th>value</th>\n",
       "      <th>unit</th>\n",
       "      <th>note</th>\n",
       "    </tr>\n",
       "  </thead>\n",
       "  <tbody>\n",
       "    <tr>\n",
       "      <th>0</th>\n",
       "      <td>2036</td>\n",
       "      <td>October</td>\n",
       "      <td>West Bengal</td>\n",
       "      <td>Total</td>\n",
       "      <td>43964</td>\n",
       "      <td>value in Thousands</td>\n",
       "      <td>NaN</td>\n",
       "    </tr>\n",
       "    <tr>\n",
       "      <th>1</th>\n",
       "      <td>2036</td>\n",
       "      <td>October</td>\n",
       "      <td>West Bengal</td>\n",
       "      <td>Male</td>\n",
       "      <td>22615</td>\n",
       "      <td>value in Thousands</td>\n",
       "      <td>NaN</td>\n",
       "    </tr>\n",
       "    <tr>\n",
       "      <th>2</th>\n",
       "      <td>2036</td>\n",
       "      <td>October</td>\n",
       "      <td>West Bengal</td>\n",
       "      <td>Female</td>\n",
       "      <td>21349</td>\n",
       "      <td>value in Thousands</td>\n",
       "      <td>NaN</td>\n",
       "    </tr>\n",
       "    <tr>\n",
       "      <th>3</th>\n",
       "      <td>2036</td>\n",
       "      <td>October</td>\n",
       "      <td>Uttarakhand</td>\n",
       "      <td>Total</td>\n",
       "      <td>5506</td>\n",
       "      <td>value in Thousands</td>\n",
       "      <td>NaN</td>\n",
       "    </tr>\n",
       "    <tr>\n",
       "      <th>4</th>\n",
       "      <td>2036</td>\n",
       "      <td>October</td>\n",
       "      <td>Uttarakhand</td>\n",
       "      <td>Male</td>\n",
       "      <td>2922</td>\n",
       "      <td>value in Thousands</td>\n",
       "      <td>NaN</td>\n",
       "    </tr>\n",
       "  </tbody>\n",
       "</table>\n",
       "</div>"
      ],
      "text/plain": [
       "   year    month        state  gender  value                unit  note\n",
       "0  2036  October  West Bengal   Total  43964  value in Thousands   NaN\n",
       "1  2036  October  West Bengal    Male  22615  value in Thousands   NaN\n",
       "2  2036  October  West Bengal  Female  21349  value in Thousands   NaN\n",
       "3  2036  October  Uttarakhand   Total   5506  value in Thousands   NaN\n",
       "4  2036  October  Uttarakhand    Male   2922  value in Thousands   NaN"
      ]
     },
     "execution_count": 3,
     "metadata": {},
     "output_type": "execute_result"
    }
   ],
   "source": [
    "df.head()"
   ]
  },
  {
   "cell_type": "markdown",
   "id": "7244ce9d",
   "metadata": {},
   "source": [
    "Remove Total\n"
   ]
  },
  {
   "cell_type": "code",
   "execution_count": 5,
   "id": "2f60e454",
   "metadata": {},
   "outputs": [
    {
     "data": {
      "text/plain": [
       "year         0\n",
       "month        0\n",
       "state        0\n",
       "gender       0\n",
       "value        0\n",
       "unit         0\n",
       "note      8892\n",
       "dtype: int64"
      ]
     },
     "execution_count": 5,
     "metadata": {},
     "output_type": "execute_result"
    }
   ],
   "source": [
    "df.isnull().sum()"
   ]
  },
  {
   "cell_type": "code",
   "execution_count": 6,
   "id": "69d97a61",
   "metadata": {},
   "outputs": [
    {
     "data": {
      "text/plain": [
       "(8892, 7)"
      ]
     },
     "execution_count": 6,
     "metadata": {},
     "output_type": "execute_result"
    }
   ],
   "source": [
    "df.shape"
   ]
  },
  {
   "cell_type": "code",
   "execution_count": 8,
   "id": "702b5862",
   "metadata": {},
   "outputs": [],
   "source": [
    "df.drop(columns='note', inplace=True)"
   ]
  },
  {
   "cell_type": "code",
   "execution_count": 9,
   "id": "8da3d21f",
   "metadata": {},
   "outputs": [
    {
     "data": {
      "text/plain": [
       "unit\n",
       "value in Thousands    8892\n",
       "Name: count, dtype: int64"
      ]
     },
     "execution_count": 9,
     "metadata": {},
     "output_type": "execute_result"
    }
   ],
   "source": [
    "df['unit'].value_counts()"
   ]
  },
  {
   "cell_type": "code",
   "execution_count": 10,
   "id": "f95ca458",
   "metadata": {},
   "outputs": [],
   "source": [
    "df.drop(columns='unit', inplace=True)"
   ]
  },
  {
   "cell_type": "code",
   "execution_count": 11,
   "id": "7bc4822c",
   "metadata": {},
   "outputs": [
    {
     "data": {
      "text/html": [
       "<div>\n",
       "<style scoped>\n",
       "    .dataframe tbody tr th:only-of-type {\n",
       "        vertical-align: middle;\n",
       "    }\n",
       "\n",
       "    .dataframe tbody tr th {\n",
       "        vertical-align: top;\n",
       "    }\n",
       "\n",
       "    .dataframe thead th {\n",
       "        text-align: right;\n",
       "    }\n",
       "</style>\n",
       "<table border=\"1\" class=\"dataframe\">\n",
       "  <thead>\n",
       "    <tr style=\"text-align: right;\">\n",
       "      <th></th>\n",
       "      <th>year</th>\n",
       "      <th>month</th>\n",
       "      <th>state</th>\n",
       "      <th>gender</th>\n",
       "      <th>value</th>\n",
       "    </tr>\n",
       "  </thead>\n",
       "  <tbody>\n",
       "    <tr>\n",
       "      <th>0</th>\n",
       "      <td>2036</td>\n",
       "      <td>October</td>\n",
       "      <td>West Bengal</td>\n",
       "      <td>Total</td>\n",
       "      <td>43964</td>\n",
       "    </tr>\n",
       "    <tr>\n",
       "      <th>1</th>\n",
       "      <td>2036</td>\n",
       "      <td>October</td>\n",
       "      <td>West Bengal</td>\n",
       "      <td>Male</td>\n",
       "      <td>22615</td>\n",
       "    </tr>\n",
       "    <tr>\n",
       "      <th>2</th>\n",
       "      <td>2036</td>\n",
       "      <td>October</td>\n",
       "      <td>West Bengal</td>\n",
       "      <td>Female</td>\n",
       "      <td>21349</td>\n",
       "    </tr>\n",
       "    <tr>\n",
       "      <th>3</th>\n",
       "      <td>2036</td>\n",
       "      <td>October</td>\n",
       "      <td>Uttarakhand</td>\n",
       "      <td>Total</td>\n",
       "      <td>5506</td>\n",
       "    </tr>\n",
       "    <tr>\n",
       "      <th>4</th>\n",
       "      <td>2036</td>\n",
       "      <td>October</td>\n",
       "      <td>Uttarakhand</td>\n",
       "      <td>Male</td>\n",
       "      <td>2922</td>\n",
       "    </tr>\n",
       "  </tbody>\n",
       "</table>\n",
       "</div>"
      ],
      "text/plain": [
       "   year    month        state  gender  value\n",
       "0  2036  October  West Bengal   Total  43964\n",
       "1  2036  October  West Bengal    Male  22615\n",
       "2  2036  October  West Bengal  Female  21349\n",
       "3  2036  October  Uttarakhand   Total   5506\n",
       "4  2036  October  Uttarakhand    Male   2922"
      ]
     },
     "execution_count": 11,
     "metadata": {},
     "output_type": "execute_result"
    }
   ],
   "source": [
    "df.head()"
   ]
  },
  {
   "cell_type": "code",
   "execution_count": 12,
   "id": "e6cd6dda",
   "metadata": {},
   "outputs": [
    {
     "data": {
      "text/plain": [
       "gender\n",
       "Total     2964\n",
       "Male      2964\n",
       "Female    2964\n",
       "Name: count, dtype: int64"
      ]
     },
     "execution_count": 12,
     "metadata": {},
     "output_type": "execute_result"
    }
   ],
   "source": [
    "df['gender'].value_counts()"
   ]
  },
  {
   "cell_type": "code",
   "execution_count": 13,
   "id": "c916d84a",
   "metadata": {},
   "outputs": [
    {
     "data": {
      "text/plain": [
       "year\n",
       "2036    342\n",
       "2035    342\n",
       "2012    342\n",
       "2013    342\n",
       "2014    342\n",
       "2015    342\n",
       "2016    342\n",
       "2017    342\n",
       "2018    342\n",
       "2019    342\n",
       "2020    342\n",
       "2021    342\n",
       "2022    342\n",
       "2023    342\n",
       "2024    342\n",
       "2025    342\n",
       "2026    342\n",
       "2027    342\n",
       "2028    342\n",
       "2029    342\n",
       "2030    342\n",
       "2031    342\n",
       "2032    342\n",
       "2033    342\n",
       "2034    342\n",
       "2011    342\n",
       "Name: count, dtype: int64"
      ]
     },
     "execution_count": 13,
     "metadata": {},
     "output_type": "execute_result"
    }
   ],
   "source": [
    "df['year'].value_counts()"
   ]
  },
  {
   "cell_type": "code",
   "execution_count": null,
   "id": "e964a210",
   "metadata": {},
   "outputs": [],
   "source": []
  }
 ],
 "metadata": {
  "kernelspec": {
   "display_name": ".venv",
   "language": "python",
   "name": "python3"
  },
  "language_info": {
   "codemirror_mode": {
    "name": "ipython",
    "version": 3
   },
   "file_extension": ".py",
   "mimetype": "text/x-python",
   "name": "python",
   "nbconvert_exporter": "python",
   "pygments_lexer": "ipython3",
   "version": "3.13.4"
  }
 },
 "nbformat": 4,
 "nbformat_minor": 5
}
