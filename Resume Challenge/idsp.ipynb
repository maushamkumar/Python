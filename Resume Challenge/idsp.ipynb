{
 "cells": [
  {
   "cell_type": "code",
   "execution_count": 1,
   "id": "cdd3162a",
   "metadata": {},
   "outputs": [],
   "source": [
    "import pandas as pd \n",
    "import seaborn as sns \n",
    "import matplotlib.pyplot as plt"
   ]
  },
  {
   "cell_type": "code",
   "execution_count": 2,
   "id": "136f901b",
   "metadata": {},
   "outputs": [],
   "source": [
    "df = pd.read_csv('idsp.csv', encoding='ISO-8859-1')\n"
   ]
  },
  {
   "cell_type": "code",
   "execution_count": 3,
   "id": "c4071a94",
   "metadata": {},
   "outputs": [
    {
     "data": {
      "text/html": [
       "<div>\n",
       "<style scoped>\n",
       "    .dataframe tbody tr th:only-of-type {\n",
       "        vertical-align: middle;\n",
       "    }\n",
       "\n",
       "    .dataframe tbody tr th {\n",
       "        vertical-align: top;\n",
       "    }\n",
       "\n",
       "    .dataframe thead th {\n",
       "        text-align: right;\n",
       "    }\n",
       "</style>\n",
       "<table border=\"1\" class=\"dataframe\">\n",
       "  <thead>\n",
       "    <tr style=\"text-align: right;\">\n",
       "      <th></th>\n",
       "      <th>year</th>\n",
       "      <th>week</th>\n",
       "      <th>outbreak_starting_date</th>\n",
       "      <th>reporting_date</th>\n",
       "      <th>state</th>\n",
       "      <th>district</th>\n",
       "      <th>disease_illness_name</th>\n",
       "      <th>status</th>\n",
       "      <th>cases</th>\n",
       "      <th>deaths</th>\n",
       "      <th>unit</th>\n",
       "      <th>note</th>\n",
       "    </tr>\n",
       "  </thead>\n",
       "  <tbody>\n",
       "    <tr>\n",
       "      <th>0</th>\n",
       "      <td>2025</td>\n",
       "      <td>16</td>\n",
       "      <td>15-04-2025</td>\n",
       "      <td>15-04-2025</td>\n",
       "      <td>Andhra Pradesh</td>\n",
       "      <td>Kakinada</td>\n",
       "      <td>Acute Diarrheal Disease</td>\n",
       "      <td>Reported</td>\n",
       "      <td>22</td>\n",
       "      <td>0</td>\n",
       "      <td>cases in absolute number, deaths in absolute n...</td>\n",
       "      <td>NaN</td>\n",
       "    </tr>\n",
       "    <tr>\n",
       "      <th>1</th>\n",
       "      <td>2025</td>\n",
       "      <td>16</td>\n",
       "      <td>15-04-2025</td>\n",
       "      <td>17-04-2025</td>\n",
       "      <td>Assam</td>\n",
       "      <td>Biswanath</td>\n",
       "      <td>Chickenpox</td>\n",
       "      <td>Reported</td>\n",
       "      <td>1</td>\n",
       "      <td>1</td>\n",
       "      <td>cases in absolute number, deaths in absolute n...</td>\n",
       "      <td>NaN</td>\n",
       "    </tr>\n",
       "    <tr>\n",
       "      <th>2</th>\n",
       "      <td>2025</td>\n",
       "      <td>16</td>\n",
       "      <td>19-04-2025</td>\n",
       "      <td>20-04-2025</td>\n",
       "      <td>Assam</td>\n",
       "      <td>Dhemaji</td>\n",
       "      <td>Food Poisoning</td>\n",
       "      <td>Reported</td>\n",
       "      <td>16</td>\n",
       "      <td>0</td>\n",
       "      <td>cases in absolute number, deaths in absolute n...</td>\n",
       "      <td>NaN</td>\n",
       "    </tr>\n",
       "    <tr>\n",
       "      <th>3</th>\n",
       "      <td>2025</td>\n",
       "      <td>16</td>\n",
       "      <td>19-04-2025</td>\n",
       "      <td>19-04-2025</td>\n",
       "      <td>Bihar</td>\n",
       "      <td>Gopalganj</td>\n",
       "      <td>Fever with Rash</td>\n",
       "      <td>Reported</td>\n",
       "      <td>5</td>\n",
       "      <td>0</td>\n",
       "      <td>cases in absolute number, deaths in absolute n...</td>\n",
       "      <td>NaN</td>\n",
       "    </tr>\n",
       "    <tr>\n",
       "      <th>4</th>\n",
       "      <td>2025</td>\n",
       "      <td>16</td>\n",
       "      <td>12-04-2025</td>\n",
       "      <td>15-04-2025</td>\n",
       "      <td>Bihar</td>\n",
       "      <td>Madhubani</td>\n",
       "      <td>Acute Diarrheal Disease</td>\n",
       "      <td>Reported</td>\n",
       "      <td>21</td>\n",
       "      <td>0</td>\n",
       "      <td>cases in absolute number, deaths in absolute n...</td>\n",
       "      <td>NaN</td>\n",
       "    </tr>\n",
       "  </tbody>\n",
       "</table>\n",
       "</div>"
      ],
      "text/plain": [
       "   year  week outbreak_starting_date reporting_date           state  \\\n",
       "0  2025    16             15-04-2025     15-04-2025  Andhra Pradesh   \n",
       "1  2025    16             15-04-2025     17-04-2025           Assam   \n",
       "2  2025    16             19-04-2025     20-04-2025           Assam   \n",
       "3  2025    16             19-04-2025     19-04-2025           Bihar   \n",
       "4  2025    16             12-04-2025     15-04-2025           Bihar   \n",
       "\n",
       "    district     disease_illness_name    status  cases  deaths  \\\n",
       "0   Kakinada  Acute Diarrheal Disease  Reported     22       0   \n",
       "1  Biswanath               Chickenpox  Reported      1       1   \n",
       "2    Dhemaji           Food Poisoning  Reported     16       0   \n",
       "3  Gopalganj          Fever with Rash  Reported      5       0   \n",
       "4  Madhubani  Acute Diarrheal Disease  Reported     21       0   \n",
       "\n",
       "                                                unit note  \n",
       "0  cases in absolute number, deaths in absolute n...  NaN  \n",
       "1  cases in absolute number, deaths in absolute n...  NaN  \n",
       "2  cases in absolute number, deaths in absolute n...  NaN  \n",
       "3  cases in absolute number, deaths in absolute n...  NaN  \n",
       "4  cases in absolute number, deaths in absolute n...  NaN  "
      ]
     },
     "execution_count": 3,
     "metadata": {},
     "output_type": "execute_result"
    }
   ],
   "source": [
    "df.head()"
   ]
  },
  {
   "cell_type": "code",
   "execution_count": 4,
   "id": "ed40523f",
   "metadata": {},
   "outputs": [
    {
     "data": {
      "text/plain": [
       "Index(['year', 'week', 'outbreak_starting_date', 'reporting_date', 'state',\n",
       "       'district', 'disease_illness_name', 'status', 'cases', 'deaths', 'unit',\n",
       "       'note'],\n",
       "      dtype='object')"
      ]
     },
     "execution_count": 4,
     "metadata": {},
     "output_type": "execute_result"
    }
   ],
   "source": [
    "df.columns"
   ]
  },
  {
   "cell_type": "code",
   "execution_count": 6,
   "id": "845fefff",
   "metadata": {},
   "outputs": [
    {
     "data": {
      "text/plain": [
       "(6474, 12)"
      ]
     },
     "execution_count": 6,
     "metadata": {},
     "output_type": "execute_result"
    }
   ],
   "source": [
    "df.shape"
   ]
  },
  {
   "cell_type": "code",
   "execution_count": 7,
   "id": "bf9c06eb",
   "metadata": {},
   "outputs": [
    {
     "data": {
      "text/plain": [
       "unit\n",
       "cases in absolute number, deaths in absolute number    6474\n",
       "Name: count, dtype: int64"
      ]
     },
     "execution_count": 7,
     "metadata": {},
     "output_type": "execute_result"
    }
   ],
   "source": [
    "df['unit'].value_counts()"
   ]
  },
  {
   "cell_type": "code",
   "execution_count": 8,
   "id": "c3bac580",
   "metadata": {},
   "outputs": [
    {
     "data": {
      "text/plain": [
       "note\n",
       "cases: Cases reported from Hyderbagh, Nanded Corporation, District Nanded                                                       1\n",
       "cases: Cases reported from Islampura Kinwat Council area, Taluk Kinwat, District Nanded                                         1\n",
       "cases: Cases reported from Village Gillesugur Camp, PHC Gillesugur, Taluk Raichur, District Raichur                             1\n",
       "cases: Cases reported from Village Gillesugur Camp, PHC/CHC Gillesugur, Taluk Raichur, District Raichur                         1\n",
       "cases: Cases were reported from Village Äì Malayampattu, district Thiruvannamalai.                                             1\n",
       "cases: Cases reported from Village Malayampattu, HSC Mullipattu, PHC Malayampattu, Block Thacthur, District Thiruvannamalai.    1\n",
       "Name: count, dtype: int64"
      ]
     },
     "execution_count": 8,
     "metadata": {},
     "output_type": "execute_result"
    }
   ],
   "source": [
    "df['note'].value_counts()"
   ]
  },
  {
   "cell_type": "code",
   "execution_count": 5,
   "id": "cc39d201",
   "metadata": {},
   "outputs": [
    {
     "data": {
      "text/plain": [
       "year                         0\n",
       "week                         0\n",
       "outbreak_starting_date       0\n",
       "reporting_date            1019\n",
       "state                        0\n",
       "district                     1\n",
       "disease_illness_name         5\n",
       "status                       0\n",
       "cases                        0\n",
       "deaths                       0\n",
       "unit                         0\n",
       "note                      6468\n",
       "dtype: int64"
      ]
     },
     "execution_count": 5,
     "metadata": {},
     "output_type": "execute_result"
    }
   ],
   "source": [
    "df.isnull().sum()"
   ]
  },
  {
   "cell_type": "code",
   "execution_count": 10,
   "id": "5bf74280",
   "metadata": {},
   "outputs": [
    {
     "data": {
      "text/plain": [
       "(6474, 12)"
      ]
     },
     "execution_count": 10,
     "metadata": {},
     "output_type": "execute_result"
    }
   ],
   "source": [
    "df.shape"
   ]
  },
  {
   "cell_type": "code",
   "execution_count": 12,
   "id": "973a45e0",
   "metadata": {},
   "outputs": [],
   "source": [
    "df.drop(columns=['note'], inplace=True)\n"
   ]
  },
  {
   "cell_type": "code",
   "execution_count": 13,
   "id": "21699177",
   "metadata": {},
   "outputs": [
    {
     "data": {
      "text/plain": [
       "year                         0\n",
       "week                         0\n",
       "outbreak_starting_date       0\n",
       "reporting_date            1019\n",
       "state                        0\n",
       "district                     1\n",
       "disease_illness_name         5\n",
       "status                       0\n",
       "cases                        0\n",
       "deaths                       0\n",
       "unit                         0\n",
       "dtype: int64"
      ]
     },
     "execution_count": 13,
     "metadata": {},
     "output_type": "execute_result"
    }
   ],
   "source": [
    "df.isnull().sum()"
   ]
  },
  {
   "cell_type": "code",
   "execution_count": 17,
   "id": "61fb9029",
   "metadata": {},
   "outputs": [
    {
     "name": "stdout",
     "output_type": "stream",
     "text": [
      "<class 'pandas.core.frame.DataFrame'>\n",
      "RangeIndex: 6474 entries, 0 to 6473\n",
      "Data columns (total 10 columns):\n",
      " #   Column                  Non-Null Count  Dtype \n",
      "---  ------                  --------------  ----- \n",
      " 0   year                    6474 non-null   int64 \n",
      " 1   week                    6474 non-null   int64 \n",
      " 2   outbreak_starting_date  6474 non-null   object\n",
      " 3   reporting_date          5455 non-null   object\n",
      " 4   state                   6474 non-null   object\n",
      " 5   district                6473 non-null   object\n",
      " 6   disease_illness_name    6469 non-null   object\n",
      " 7   status                  6474 non-null   object\n",
      " 8   cases                   6474 non-null   int64 \n",
      " 9   deaths                  6474 non-null   int64 \n",
      "dtypes: int64(4), object(6)\n",
      "memory usage: 505.9+ KB\n"
     ]
    }
   ],
   "source": [
    "df.info()"
   ]
  },
  {
   "cell_type": "code",
   "execution_count": 15,
   "id": "671f68ab",
   "metadata": {},
   "outputs": [
    {
     "data": {
      "text/plain": [
       "unit\n",
       "cases in absolute number, deaths in absolute number    6474\n",
       "Name: count, dtype: int64"
      ]
     },
     "execution_count": 15,
     "metadata": {},
     "output_type": "execute_result"
    }
   ],
   "source": [
    "df['unit'].value_counts()"
   ]
  },
  {
   "cell_type": "code",
   "execution_count": 16,
   "id": "33348b52",
   "metadata": {},
   "outputs": [],
   "source": [
    "df.drop(columns=['unit'], inplace=True)\n"
   ]
  },
  {
   "cell_type": "markdown",
   "id": "95761775",
   "metadata": {},
   "source": [
    "### 🔍 What is `outbreak_starting_date`?\n",
    "\n",
    "- `outbreak_starting_date` refers to the **first known date** when a **disease outbreak** was **reported or identified** in a specific **district** or **state**.\n",
    "- It marks the **beginning of an outbreak episode** tracked by **IDSP** (Integrated Disease Surveillance Programme, India).\n",
    "\n",
    "---\n",
    "\n",
    "### 🏥 What is an \"Outbreak\"?\n",
    "\n",
    "- An **outbreak** is the occurrence of **more cases than expected** of a disease in a particular time and place.\n",
    "  - Example: 20+ cases of Dengue in one village in a week.\n",
    "\n",
    "---\n",
    "\n",
    "### 📆 Why is `outbreak_starting_date` important?\n",
    "\n",
    "#### ✅ (a) Temporal Tracking\n",
    "- Helps track **when** the outbreak began.\n",
    "- Useful for building **timelines** of disease spread.\n",
    "\n",
    "#### ✅ (b) Early Response Window\n",
    "- Critical for **public health teams** to analyze **response time**.\n",
    "- Helps detect **delays between outbreak and action**.\n",
    "\n",
    "#### ✅ (c) Data Filtering & Analysis\n",
    "- You can:\n",
    "  - Filter by **month or season** to study seasonal diseases (e.g., Dengue, Malaria).\n",
    "  - Visualize **trends over years**.\n",
    "\n",
    "---\n",
    "\n",
    "### 🧾 Example:\n",
    "\n",
    "| year | week | outbreak_starting_date | state   | disease   | cases | deaths |\n",
    "|------|------|-------------------------|---------|-----------|-------|--------|\n",
    "| 2022 | 15   | 2022-04-08              | Bihar   | Cholera   | 24    | 1      |\n",
    "| 2022 | 16   | 2022-04-12              | Gujarat | Measles   | 17    | 0      |\n",
    "\n",
    "Here, the outbreak of **Cholera** in Bihar started on **April 8, 2022**, during **week 15** of the year.\n",
    "\n",
    "---\n",
    "\n",
    "### 🛠️ Tips for Use:\n",
    "- Convert to `datetime`:\n",
    "```python\n",
    "df['outbreak_starting_date'] = pd.to_datetime(df['outbreak_starting_date'])\n"
   ]
  },
  {
   "cell_type": "code",
   "execution_count": 18,
   "id": "6f9189c7",
   "metadata": {},
   "outputs": [
    {
     "name": "stderr",
     "output_type": "stream",
     "text": [
      "/var/folders/wg/8rqwg0nd7995t2tzgq40dsph0000gn/T/ipykernel_15057/2800354192.py:1: UserWarning: Parsing dates in %d-%m-%Y format when dayfirst=False (the default) was specified. Pass `dayfirst=True` or specify a format to silence this warning.\n",
      "  df['outbreak_starting_date'] = pd.to_datetime(df['outbreak_starting_date'])\n"
     ]
    }
   ],
   "source": [
    "df['outbreak_starting_date'] = pd.to_datetime(df['outbreak_starting_date'])"
   ]
  },
  {
   "cell_type": "code",
   "execution_count": 20,
   "id": "badb4fe9",
   "metadata": {},
   "outputs": [
    {
     "name": "stdout",
     "output_type": "stream",
     "text": [
      "<class 'pandas.core.frame.DataFrame'>\n",
      "RangeIndex: 6474 entries, 0 to 6473\n",
      "Data columns (total 10 columns):\n",
      " #   Column                  Non-Null Count  Dtype         \n",
      "---  ------                  --------------  -----         \n",
      " 0   year                    6474 non-null   int64         \n",
      " 1   week                    6474 non-null   int64         \n",
      " 2   outbreak_starting_date  6474 non-null   datetime64[ns]\n",
      " 3   reporting_date          5455 non-null   object        \n",
      " 4   state                   6474 non-null   object        \n",
      " 5   district                6473 non-null   object        \n",
      " 6   disease_illness_name    6469 non-null   object        \n",
      " 7   status                  6474 non-null   object        \n",
      " 8   cases                   6474 non-null   int64         \n",
      " 9   deaths                  6474 non-null   int64         \n",
      "dtypes: datetime64[ns](1), int64(4), object(5)\n",
      "memory usage: 505.9+ KB\n"
     ]
    }
   ],
   "source": [
    "df.info()"
   ]
  },
  {
   "cell_type": "markdown",
   "id": "295d085f",
   "metadata": {},
   "source": [
    "How to fill reporting_date try to fill using state district and find the diffence between outbreak_strarting_date and reporting_date mode of it and add that many days on outbreak_starting_date. I do think this is the beast apporch to fill this column. \n",
    "\n",
    "else null values i'll drop. "
   ]
  },
  {
   "cell_type": "code",
   "execution_count": 21,
   "id": "ac412297",
   "metadata": {},
   "outputs": [
    {
     "name": "stderr",
     "output_type": "stream",
     "text": [
      "/var/folders/wg/8rqwg0nd7995t2tzgq40dsph0000gn/T/ipykernel_15057/3109070806.py:1: UserWarning: Parsing dates in %d-%m-%Y format when dayfirst=False (the default) was specified. Pass `dayfirst=True` or specify a format to silence this warning.\n",
      "  df['reporting_date'] = pd.to_datetime(df['reporting_date'])\n"
     ]
    }
   ],
   "source": [
    "df['reporting_date'] = pd.to_datetime(df['reporting_date'])"
   ]
  },
  {
   "cell_type": "code",
   "execution_count": 22,
   "id": "bd0b0073",
   "metadata": {},
   "outputs": [
    {
     "data": {
      "text/plain": [
       "state\n",
       "Kerala                                      843\n",
       "Maharashtra                                 609\n",
       "Karnataka                                   587\n",
       "Madhya Pradesh                              580\n",
       "Odisha                                      462\n",
       "Tamil Nadu                                  393\n",
       "Assam                                       378\n",
       "Jharkhand                                   355\n",
       "Chhattisgarh                                312\n",
       "Uttar Pradesh                               304\n",
       "Gujarat                                     254\n",
       "Jammu and Kashmir                           230\n",
       "Bihar                                       225\n",
       "West Bengal                                 166\n",
       "Andhra Pradesh                              144\n",
       "Meghalaya                                   113\n",
       "Punjab                                       73\n",
       "Rajasthan                                    60\n",
       "Uttarakhand                                  57\n",
       "Haryana                                      55\n",
       "Arunachal Pradesh                            53\n",
       "Telangana                                    39\n",
       "Mizoram                                      33\n",
       "Manipur                                      31\n",
       "Nagaland                                     23\n",
       "Himachal Pradesh                             22\n",
       "Puducherry                                   16\n",
       "Tripura                                      12\n",
       "Sikkim                                        9\n",
       "Goa                                           9\n",
       "Dadra and Nagar Haveli                        6\n",
       "Andaman and Nicobar Islands                   5\n",
       "Dadra and Nagar Haveli and Daman and Diu      4\n",
       "Ladakh                                        3\n",
       "Madhya                                        2\n",
       "Tamil nadu                                    2\n",
       "Delhi                                         2\n",
       "Arunachal                                     1\n",
       "Uttar                                         1\n",
       "Chandigarh                                    1\n",
       "Name: count, dtype: int64"
      ]
     },
     "execution_count": 22,
     "metadata": {},
     "output_type": "execute_result"
    }
   ],
   "source": [
    "df['state'].value_counts()"
   ]
  },
  {
   "cell_type": "code",
   "execution_count": 23,
   "id": "5a7d0b74",
   "metadata": {},
   "outputs": [
    {
     "data": {
      "text/plain": [
       "district\n",
       "Ernakulam            125\n",
       "Palakkad             117\n",
       "Malappuram           100\n",
       "Kannur                78\n",
       "Thrissur              67\n",
       "                    ... \n",
       "Gautam Budh Nagar      1\n",
       "Pathankot              1\n",
       "Botad                  1\n",
       "Pakke Kessang          1\n",
       "Jagtial                1\n",
       "Name: count, Length: 707, dtype: int64"
      ]
     },
     "execution_count": 23,
     "metadata": {},
     "output_type": "execute_result"
    }
   ],
   "source": [
    "df['district'].value_counts()"
   ]
  },
  {
   "cell_type": "code",
   "execution_count": 24,
   "id": "69284f96",
   "metadata": {},
   "outputs": [
    {
     "data": {
      "text/plain": [
       "disease_illness_name\n",
       "Acute Diarrheal Disease           1967\n",
       "Food Poisoning                     812\n",
       "Dengue                             509\n",
       "Chickenpox                         439\n",
       "Hepatitis A                        385\n",
       "                                  ... \n",
       "Leptospirosis and Scrub Typhus       1\n",
       "Fever with Altered sensandium        1\n",
       "Tetanus                              1\n",
       "Fever of Unknown Cause               1\n",
       "Malaria (Plasmodium Vivax)           1\n",
       "Name: count, Length: 127, dtype: int64"
      ]
     },
     "execution_count": 24,
     "metadata": {},
     "output_type": "execute_result"
    }
   ],
   "source": [
    "df['disease_illness_name'].value_counts()"
   ]
  },
  {
   "cell_type": "markdown",
   "id": "7c6b43d1",
   "metadata": {},
   "source": [
    "Yaha pe kaam karna perega. "
   ]
  },
  {
   "cell_type": "code",
   "execution_count": 27,
   "id": "fd069d04",
   "metadata": {},
   "outputs": [
    {
     "data": {
      "text/plain": [
       "status\n",
       "Reported in Same Week      4733\n",
       "Reported Late               958\n",
       "Reported                    665\n",
       "Reported in same week        70\n",
       "Reported late                46\n",
       "Previous Week Follow up       2\n",
       "Name: count, dtype: int64"
      ]
     },
     "execution_count": 27,
     "metadata": {},
     "output_type": "execute_result"
    }
   ],
   "source": [
    "df['status'].value_counts()"
   ]
  },
  {
   "cell_type": "code",
   "execution_count": 29,
   "id": "7215caf7",
   "metadata": {},
   "outputs": [
    {
     "data": {
      "text/plain": [
       "deaths\n",
       "0     5672\n",
       "1      650\n",
       "2       96\n",
       "3       30\n",
       "4        8\n",
       "6        5\n",
       "7        4\n",
       "5        3\n",
       "16       1\n",
       "73       1\n",
       "66       1\n",
       "41       1\n",
       "9        1\n",
       "13       1\n",
       "Name: count, dtype: int64"
      ]
     },
     "execution_count": 29,
     "metadata": {},
     "output_type": "execute_result"
    }
   ],
   "source": [
    "df['deaths'].value_counts()"
   ]
  },
  {
   "cell_type": "code",
   "execution_count": 30,
   "id": "26b9582f",
   "metadata": {},
   "outputs": [
    {
     "data": {
      "text/plain": [
       "cases\n",
       "1      344\n",
       "5      277\n",
       "10     230\n",
       "6      228\n",
       "12     219\n",
       "      ... \n",
       "265      1\n",
       "496      1\n",
       "251      1\n",
       "186      1\n",
       "253      1\n",
       "Name: count, Length: 281, dtype: int64"
      ]
     },
     "execution_count": 30,
     "metadata": {},
     "output_type": "execute_result"
    }
   ],
   "source": [
    "df['cases'].value_counts()"
   ]
  },
  {
   "cell_type": "code",
   "execution_count": null,
   "id": "0088f4ff",
   "metadata": {},
   "outputs": [],
   "source": []
  }
 ],
 "metadata": {
  "kernelspec": {
   "display_name": ".venv",
   "language": "python",
   "name": "python3"
  },
  "language_info": {
   "codemirror_mode": {
    "name": "ipython",
    "version": 3
   },
   "file_extension": ".py",
   "mimetype": "text/x-python",
   "name": "python",
   "nbconvert_exporter": "python",
   "pygments_lexer": "ipython3",
   "version": "3.13.4"
  }
 },
 "nbformat": 4,
 "nbformat_minor": 5
}
