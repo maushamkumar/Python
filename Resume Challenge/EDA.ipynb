{
 "cells": [
  {
   "cell_type": "code",
   "execution_count": 2,
   "id": "ed31fc07",
   "metadata": {},
   "outputs": [],
   "source": [
    "import pandas as pd \n"
   ]
  },
  {
   "cell_type": "code",
   "execution_count": 3,
   "id": "692363d6",
   "metadata": {},
   "outputs": [],
   "source": [
    "aqi = pd.read_csv('aqi.csv')"
   ]
  },
  {
   "cell_type": "code",
   "execution_count": 4,
   "id": "5984cfab",
   "metadata": {},
   "outputs": [
    {
     "data": {
      "text/html": [
       "<div>\n",
       "<style scoped>\n",
       "    .dataframe tbody tr th:only-of-type {\n",
       "        vertical-align: middle;\n",
       "    }\n",
       "\n",
       "    .dataframe tbody tr th {\n",
       "        vertical-align: top;\n",
       "    }\n",
       "\n",
       "    .dataframe thead th {\n",
       "        text-align: right;\n",
       "    }\n",
       "</style>\n",
       "<table border=\"1\" class=\"dataframe\">\n",
       "  <thead>\n",
       "    <tr style=\"text-align: right;\">\n",
       "      <th></th>\n",
       "      <th>date</th>\n",
       "      <th>state</th>\n",
       "      <th>area</th>\n",
       "      <th>number_of_monitoring_stations</th>\n",
       "      <th>prominent_pollutants</th>\n",
       "      <th>aqi_value</th>\n",
       "      <th>air_quality_status</th>\n",
       "      <th>unit</th>\n",
       "      <th>note</th>\n",
       "    </tr>\n",
       "  </thead>\n",
       "  <tbody>\n",
       "    <tr>\n",
       "      <th>0</th>\n",
       "      <td>30-04-2025</td>\n",
       "      <td>Maharashtra</td>\n",
       "      <td>Amravati</td>\n",
       "      <td>2</td>\n",
       "      <td>PM10</td>\n",
       "      <td>78</td>\n",
       "      <td>Satisfactory</td>\n",
       "      <td>number_of_monitoring_stations in Absolute Numb...</td>\n",
       "      <td>NaN</td>\n",
       "    </tr>\n",
       "    <tr>\n",
       "      <th>1</th>\n",
       "      <td>30-04-2025</td>\n",
       "      <td>Bihar</td>\n",
       "      <td>Purnia</td>\n",
       "      <td>1</td>\n",
       "      <td>CO</td>\n",
       "      <td>56</td>\n",
       "      <td>Satisfactory</td>\n",
       "      <td>number_of_monitoring_stations in Absolute Numb...</td>\n",
       "      <td>NaN</td>\n",
       "    </tr>\n",
       "    <tr>\n",
       "      <th>2</th>\n",
       "      <td>30-04-2025</td>\n",
       "      <td>Madhya Pradesh</td>\n",
       "      <td>Katni</td>\n",
       "      <td>1</td>\n",
       "      <td>O3</td>\n",
       "      <td>98</td>\n",
       "      <td>Satisfactory</td>\n",
       "      <td>number_of_monitoring_stations in Absolute Numb...</td>\n",
       "      <td>NaN</td>\n",
       "    </tr>\n",
       "    <tr>\n",
       "      <th>3</th>\n",
       "      <td>30-04-2025</td>\n",
       "      <td>Chhattisgarh</td>\n",
       "      <td>Tumidih</td>\n",
       "      <td>1</td>\n",
       "      <td>PM10</td>\n",
       "      <td>103</td>\n",
       "      <td>Moderate</td>\n",
       "      <td>number_of_monitoring_stations in Absolute Numb...</td>\n",
       "      <td>NaN</td>\n",
       "    </tr>\n",
       "    <tr>\n",
       "      <th>4</th>\n",
       "      <td>30-04-2025</td>\n",
       "      <td>Assam</td>\n",
       "      <td>Byrnihat</td>\n",
       "      <td>1</td>\n",
       "      <td>PM2.5</td>\n",
       "      <td>61</td>\n",
       "      <td>Satisfactory</td>\n",
       "      <td>number_of_monitoring_stations in Absolute Numb...</td>\n",
       "      <td>NaN</td>\n",
       "    </tr>\n",
       "  </tbody>\n",
       "</table>\n",
       "</div>"
      ],
      "text/plain": [
       "         date           state      area  number_of_monitoring_stations  \\\n",
       "0  30-04-2025     Maharashtra  Amravati                              2   \n",
       "1  30-04-2025           Bihar    Purnia                              1   \n",
       "2  30-04-2025  Madhya Pradesh     Katni                              1   \n",
       "3  30-04-2025    Chhattisgarh   Tumidih                              1   \n",
       "4  30-04-2025           Assam  Byrnihat                              1   \n",
       "\n",
       "  prominent_pollutants  aqi_value air_quality_status  \\\n",
       "0                 PM10         78       Satisfactory   \n",
       "1                   CO         56       Satisfactory   \n",
       "2                   O3         98       Satisfactory   \n",
       "3                 PM10        103           Moderate   \n",
       "4                PM2.5         61       Satisfactory   \n",
       "\n",
       "                                                unit  note  \n",
       "0  number_of_monitoring_stations in Absolute Numb...   NaN  \n",
       "1  number_of_monitoring_stations in Absolute Numb...   NaN  \n",
       "2  number_of_monitoring_stations in Absolute Numb...   NaN  \n",
       "3  number_of_monitoring_stations in Absolute Numb...   NaN  \n",
       "4  number_of_monitoring_stations in Absolute Numb...   NaN  "
      ]
     },
     "execution_count": 4,
     "metadata": {},
     "output_type": "execute_result"
    }
   ],
   "source": [
    "aqi.head()"
   ]
  },
  {
   "cell_type": "code",
   "execution_count": 5,
   "id": "08b0c13f",
   "metadata": {},
   "outputs": [
    {
     "data": {
      "text/plain": [
       "Index(['date', 'state', 'area', 'number_of_monitoring_stations',\n",
       "       'prominent_pollutants', 'aqi_value', 'air_quality_status', 'unit',\n",
       "       'note'],\n",
       "      dtype='object')"
      ]
     },
     "execution_count": 5,
     "metadata": {},
     "output_type": "execute_result"
    }
   ],
   "source": [
    "aqi.columns"
   ]
  },
  {
   "cell_type": "markdown",
   "id": "e23e6593",
   "metadata": {},
   "source": [
    "AQI Dataset we have 9 column \n",
    "- Data: Contain date \n",
    "- State: State of the india\n",
    "- Area: Area of the state\n",
    "- Number_of_monitoring_stations: How many state are monitoring the stations i think \n",
    "- prominent_pollutants: I don't know i have look at the column \n",
    "- aqi_value: Don't know again i have to gain information related to this \n",
    "- air_quality_status: State of the air quality [`Satisfactory`, `Moderate`, `Good`, `Poor`, `Very Poor`, `Severe`]\n",
    "- unit: Don't know i have to research about it. \n",
    "- note: Only NaN values. I will drop it. "
   ]
  },
  {
   "cell_type": "code",
   "execution_count": 11,
   "id": "a34cef5c",
   "metadata": {},
   "outputs": [
    {
     "data": {
      "text/plain": [
       "(235785, 9)"
      ]
     },
     "execution_count": 11,
     "metadata": {},
     "output_type": "execute_result"
    }
   ],
   "source": [
    "aqi.shape"
   ]
  },
  {
   "cell_type": "code",
   "execution_count": 10,
   "id": "d15c8e36",
   "metadata": {},
   "outputs": [
    {
     "data": {
      "text/plain": [
       "date                                  0\n",
       "state                                 0\n",
       "area                                  0\n",
       "number_of_monitoring_stations         0\n",
       "prominent_pollutants                  0\n",
       "aqi_value                             0\n",
       "air_quality_status                    0\n",
       "unit                                  0\n",
       "note                             235785\n",
       "dtype: int64"
      ]
     },
     "execution_count": 10,
     "metadata": {},
     "output_type": "execute_result"
    }
   ],
   "source": [
    "aqi.isnull().sum()"
   ]
  },
  {
   "cell_type": "markdown",
   "id": "aec91b23",
   "metadata": {},
   "source": [
    "In out data set don't have null values except note. \n",
    "\n",
    "Without a second though i'll drop the note column"
   ]
  },
  {
   "cell_type": "code",
   "execution_count": 13,
   "id": "ad165e5e",
   "metadata": {},
   "outputs": [],
   "source": [
    "aqi.drop(columns='note', inplace=True)"
   ]
  },
  {
   "cell_type": "code",
   "execution_count": 31,
   "id": "ca92712d",
   "metadata": {},
   "outputs": [
    {
     "data": {
      "text/html": [
       "<div>\n",
       "<style scoped>\n",
       "    .dataframe tbody tr th:only-of-type {\n",
       "        vertical-align: middle;\n",
       "    }\n",
       "\n",
       "    .dataframe tbody tr th {\n",
       "        vertical-align: top;\n",
       "    }\n",
       "\n",
       "    .dataframe thead th {\n",
       "        text-align: right;\n",
       "    }\n",
       "</style>\n",
       "<table border=\"1\" class=\"dataframe\">\n",
       "  <thead>\n",
       "    <tr style=\"text-align: right;\">\n",
       "      <th></th>\n",
       "      <th>date</th>\n",
       "      <th>state</th>\n",
       "      <th>area</th>\n",
       "      <th>number_of_monitoring_stations</th>\n",
       "      <th>prominent_pollutants</th>\n",
       "      <th>aqi_value</th>\n",
       "      <th>air_quality_status</th>\n",
       "      <th>unit</th>\n",
       "      <th>month</th>\n",
       "    </tr>\n",
       "  </thead>\n",
       "  <tbody>\n",
       "    <tr>\n",
       "      <th>0</th>\n",
       "      <td>2025-04-30</td>\n",
       "      <td>Maharashtra</td>\n",
       "      <td>Amravati</td>\n",
       "      <td>2</td>\n",
       "      <td>PM10</td>\n",
       "      <td>78</td>\n",
       "      <td>Satisfactory</td>\n",
       "      <td>number_of_monitoring_stations in Absolute Numb...</td>\n",
       "      <td>4</td>\n",
       "    </tr>\n",
       "    <tr>\n",
       "      <th>1</th>\n",
       "      <td>2025-04-30</td>\n",
       "      <td>Bihar</td>\n",
       "      <td>Purnia</td>\n",
       "      <td>1</td>\n",
       "      <td>CO</td>\n",
       "      <td>56</td>\n",
       "      <td>Satisfactory</td>\n",
       "      <td>number_of_monitoring_stations in Absolute Numb...</td>\n",
       "      <td>4</td>\n",
       "    </tr>\n",
       "    <tr>\n",
       "      <th>2</th>\n",
       "      <td>2025-04-30</td>\n",
       "      <td>Madhya Pradesh</td>\n",
       "      <td>Katni</td>\n",
       "      <td>1</td>\n",
       "      <td>O3</td>\n",
       "      <td>98</td>\n",
       "      <td>Satisfactory</td>\n",
       "      <td>number_of_monitoring_stations in Absolute Numb...</td>\n",
       "      <td>4</td>\n",
       "    </tr>\n",
       "    <tr>\n",
       "      <th>3</th>\n",
       "      <td>2025-04-30</td>\n",
       "      <td>Chhattisgarh</td>\n",
       "      <td>Tumidih</td>\n",
       "      <td>1</td>\n",
       "      <td>PM10</td>\n",
       "      <td>103</td>\n",
       "      <td>Moderate</td>\n",
       "      <td>number_of_monitoring_stations in Absolute Numb...</td>\n",
       "      <td>4</td>\n",
       "    </tr>\n",
       "    <tr>\n",
       "      <th>4</th>\n",
       "      <td>2025-04-30</td>\n",
       "      <td>Assam</td>\n",
       "      <td>Byrnihat</td>\n",
       "      <td>1</td>\n",
       "      <td>PM2.5</td>\n",
       "      <td>61</td>\n",
       "      <td>Satisfactory</td>\n",
       "      <td>number_of_monitoring_stations in Absolute Numb...</td>\n",
       "      <td>4</td>\n",
       "    </tr>\n",
       "  </tbody>\n",
       "</table>\n",
       "</div>"
      ],
      "text/plain": [
       "        date           state      area  number_of_monitoring_stations  \\\n",
       "0 2025-04-30     Maharashtra  Amravati                              2   \n",
       "1 2025-04-30           Bihar    Purnia                              1   \n",
       "2 2025-04-30  Madhya Pradesh     Katni                              1   \n",
       "3 2025-04-30    Chhattisgarh   Tumidih                              1   \n",
       "4 2025-04-30           Assam  Byrnihat                              1   \n",
       "\n",
       "  prominent_pollutants  aqi_value air_quality_status  \\\n",
       "0                 PM10         78       Satisfactory   \n",
       "1                   CO         56       Satisfactory   \n",
       "2                   O3         98       Satisfactory   \n",
       "3                 PM10        103           Moderate   \n",
       "4                PM2.5         61       Satisfactory   \n",
       "\n",
       "                                                unit  month  \n",
       "0  number_of_monitoring_stations in Absolute Numb...      4  \n",
       "1  number_of_monitoring_stations in Absolute Numb...      4  \n",
       "2  number_of_monitoring_stations in Absolute Numb...      4  \n",
       "3  number_of_monitoring_stations in Absolute Numb...      4  \n",
       "4  number_of_monitoring_stations in Absolute Numb...      4  "
      ]
     },
     "execution_count": 31,
     "metadata": {},
     "output_type": "execute_result"
    }
   ],
   "source": [
    "aqi.head()\n"
   ]
  },
  {
   "cell_type": "code",
   "execution_count": 18,
   "id": "dc084ee4",
   "metadata": {},
   "outputs": [
    {
     "data": {
      "text/plain": [
       "np.int64(0)"
      ]
     },
     "execution_count": 18,
     "metadata": {},
     "output_type": "execute_result"
    }
   ],
   "source": [
    "aqi.duplicated().sum()"
   ]
  },
  {
   "cell_type": "code",
   "execution_count": 21,
   "id": "91065809",
   "metadata": {},
   "outputs": [
    {
     "name": "stdout",
     "output_type": "stream",
     "text": [
      "<class 'pandas.core.frame.DataFrame'>\n",
      "RangeIndex: 235785 entries, 0 to 235784\n",
      "Data columns (total 8 columns):\n",
      " #   Column                         Non-Null Count   Dtype \n",
      "---  ------                         --------------   ----- \n",
      " 0   date                           235785 non-null  object\n",
      " 1   state                          235785 non-null  object\n",
      " 2   area                           235785 non-null  object\n",
      " 3   number_of_monitoring_stations  235785 non-null  int64 \n",
      " 4   prominent_pollutants           235785 non-null  object\n",
      " 5   aqi_value                      235785 non-null  int64 \n",
      " 6   air_quality_status             235785 non-null  object\n",
      " 7   unit                           235785 non-null  object\n",
      "dtypes: int64(2), object(6)\n",
      "memory usage: 14.4+ MB\n"
     ]
    }
   ],
   "source": [
    "aqi.info()"
   ]
  },
  {
   "cell_type": "markdown",
   "id": "ec77d53b",
   "metadata": {},
   "source": [
    "Here i found out few mistake \n",
    "First with date column \n",
    "- data: this is object type but it should be a datetime \n",
    "\n",
    "\n",
    "I'll convert date into datetime\n"
   ]
  },
  {
   "cell_type": "code",
   "execution_count": 22,
   "id": "de752083",
   "metadata": {},
   "outputs": [
    {
     "name": "stderr",
     "output_type": "stream",
     "text": [
      "/var/folders/wg/8rqwg0nd7995t2tzgq40dsph0000gn/T/ipykernel_13183/754965097.py:1: UserWarning: Parsing dates in %d-%m-%Y format when dayfirst=False (the default) was specified. Pass `dayfirst=True` or specify a format to silence this warning.\n",
      "  aqi['date'] = pd.to_datetime(aqi['date'])\n"
     ]
    }
   ],
   "source": [
    "aqi['date'] = pd.to_datetime(aqi['date'])\n"
   ]
  },
  {
   "cell_type": "markdown",
   "id": "25c3b9e7",
   "metadata": {},
   "source": [
    "No dublicate are present inside our data"
   ]
  },
  {
   "cell_type": "markdown",
   "id": "9a191695",
   "metadata": {},
   "source": [
    "#### Let's start with Date"
   ]
  },
  {
   "cell_type": "code",
   "execution_count": 17,
   "id": "876cea24",
   "metadata": {},
   "outputs": [
    {
     "data": {
      "text/plain": [
       "np.int64(0)"
      ]
     },
     "execution_count": 17,
     "metadata": {},
     "output_type": "execute_result"
    }
   ],
   "source": [
    "aqi['date'].isnull().sum()"
   ]
  },
  {
   "cell_type": "code",
   "execution_count": 24,
   "id": "7c6c013b",
   "metadata": {},
   "outputs": [
    {
     "data": {
      "text/plain": [
       "date\n",
       "4     24469\n",
       "3     21017\n",
       "12    20498\n",
       "1     20151\n",
       "11    20104\n",
       "10    19900\n",
       "2     18653\n",
       "8     18536\n",
       "9     18499\n",
       "7     18303\n",
       "5     18100\n",
       "6     17555\n",
       "Name: count, dtype: int64"
      ]
     },
     "execution_count": 24,
     "metadata": {},
     "output_type": "execute_result"
    }
   ],
   "source": [
    "aqi['date'].dt.month.value_counts()"
   ]
  },
  {
   "cell_type": "code",
   "execution_count": null,
   "id": "1ad960c4",
   "metadata": {},
   "outputs": [],
   "source": [
    "import seaborn as sns\n",
    "import matplotlib.pyplot as plt"
   ]
  },
  {
   "cell_type": "code",
   "execution_count": 26,
   "id": "a034ad11",
   "metadata": {},
   "outputs": [
    {
     "data": {
      "image/png": "[encoded data removed]",
      "text/plain": [
       "<Figure size 800x500 with 1 Axes>"
      ]
     },
     "metadata": {},
     "output_type": "display_data"
    }
   ],
   "source": [
    "# Extract month\n",
    "aqi['month'] = aqi['date'].dt.month\n",
    "\n",
    "# KDE Plot of month distribution\n",
    "plt.figure(figsize=(8, 5))\n",
    "sns.kdeplot(aqi['month'], fill=True, bw_adjust=0.5)\n",
    "plt.title('KDE Plot of AQI Records by Month')\n",
    "plt.xlabel('Month')\n",
    "plt.ylabel('Density')\n",
    "plt.xticks(range(1, 13))\n",
    "plt.grid(True)\n",
    "plt.show()"
   ]
  },
  {
   "cell_type": "code",
   "execution_count": 25,
   "id": "07bc72b6",
   "metadata": {},
   "outputs": [],
   "source": [
    "import seaborn as sns\n",
    "import matplotlib.pyplot as plt"
   ]
  },
  {
   "cell_type": "code",
   "execution_count": 15,
   "id": "b9d62471",
   "metadata": {},
   "outputs": [
    {
     "data": {
      "text/plain": [
       "state\n",
       "Rajasthan                      26585\n",
       "Karnataka                      23494\n",
       "Maharashtra                    22459\n",
       "Haryana                        21706\n",
       "Uttar Pradesh                  21609\n",
       "Bihar                          21553\n",
       "Madhya Pradesh                 15477\n",
       "Tamil Nadu                     11954\n",
       "Odisha                         11099\n",
       "Punjab                          8488\n",
       "Andhra Pradesh                  7077\n",
       "West Bengal                     6921\n",
       "Gujarat                         6215\n",
       "Kerala                          5574\n",
       "Chhattisgarh                    5556\n",
       "Assam                           4921\n",
       "Uttarakhand                     2332\n",
       "Delhi                           1125\n",
       "Chandigarh                      1125\n",
       "Telangana                       1125\n",
       "Puducherry                      1070\n",
       "Himachal Pradesh                1066\n",
       "Tripura                         1035\n",
       "Mizoram                         1000\n",
       "Nagaland                         957\n",
       "Meghalaya                        874\n",
       "Sikkim                           836\n",
       "Manipur                          826\n",
       "Jharkhand                        721\n",
       "Arunachal Pradesh                509\n",
       "Jammu and Kashmir                438\n",
       "Andaman and Nicobar Islands       58\n",
       "Name: count, dtype: int64"
      ]
     },
     "execution_count": 15,
     "metadata": {},
     "output_type": "execute_result"
    }
   ],
   "source": [
    "aqi['state'].value_counts()"
   ]
  },
  {
   "cell_type": "code",
   "execution_count": 30,
   "id": "499392c6",
   "metadata": {},
   "outputs": [
    {
     "name": "stderr",
     "output_type": "stream",
     "text": [
      "/var/folders/wg/8rqwg0nd7995t2tzgq40dsph0000gn/T/ipykernel_13183/4222349532.py:6: FutureWarning: \n",
      "\n",
      "Passing `palette` without assigning `hue` is deprecated and will be removed in v0.14.0. Assign the `x` variable to `hue` and set `legend=False` for the same effect.\n",
      "\n",
      "  sns.barplot(x=state_counts.index, y=state_counts.values, palette=\"viridis\")\n"
     ]
    },
    {
     "data": {
      "image/png": "[encoded data removed]",
      "text/plain": [
       "<Figure size 1000x600 with 1 Axes>"
      ]
     },
     "metadata": {},
     "output_type": "display_data"
    }
   ],
   "source": [
    "# Get count of records per state, sorted\n",
    "state_counts = aqi['state'].value_counts().sort_values(ascending=False)\n",
    "\n",
    "# Bar plot\n",
    "plt.figure(figsize=(10, 6))\n",
    "sns.barplot(x=state_counts.index, y=state_counts.values, palette=\"viridis\")\n",
    "plt.xticks(rotation=45, ha='right')\n",
    "plt.title('Number of AQI Records by State')\n",
    "plt.xlabel('State')\n",
    "plt.ylabel('Number of Records')\n",
    "plt.grid(axis='y')\n",
    "plt.tight_layout()\n",
    "plt.show()\n"
   ]
  },
  {
   "cell_type": "code",
   "execution_count": 32,
   "id": "a9348f85",
   "metadata": {},
   "outputs": [
    {
     "data": {
      "text/plain": [
       "Index(['date', 'state', 'area', 'number_of_monitoring_stations',\n",
       "       'prominent_pollutants', 'aqi_value', 'air_quality_status', 'unit',\n",
       "       'month'],\n",
       "      dtype='object')"
      ]
     },
     "execution_count": 32,
     "metadata": {},
     "output_type": "execute_result"
    }
   ],
   "source": [
    "aqi.columns"
   ]
  },
  {
   "cell_type": "markdown",
   "id": "c23a9ba3",
   "metadata": {},
   "source": [
    "### number_of_monitoring_stations\n",
    "#### Explanation in AQI Terms\n",
    "\n",
    "##### 1. Monitoring Station:\n",
    "A **monitoring station** is a setup with sensors and equipment to measure pollutants like:\n",
    "\n",
    "- PM2.5  \n",
    "- PM10  \n",
    "- NO₂  \n",
    "- CO  \n",
    "- SO₂  \n",
    "- O₃  \n",
    "\n",
    "These stations are typically managed by environmental authorities like **CPCB (India)** or **EPA (USA)**.\n",
    "\n",
    "---\n",
    "\n",
    "##### 2. Why is `number_of_monitoring_stations` important?\n",
    "\n",
    "###### (a) Data Accuracy:\n",
    "- More stations = more data points = better accuracy in AQI calculation.\n",
    "- A city with **1 station** may not capture pollution spread as well as one with **10 stations**.\n",
    "\n",
    "###### (b) Geographical Coverage:\n",
    "- Higher count = better **area coverage**.\n",
    "- Helps capture **localized pollution spikes** (e.g., near highways, factories).\n",
    "\n",
    "###### (c) Reliability of AQI:\n",
    "- An AQI derived from **multiple stations** is considered more **representative** of overall air quality.\n"
   ]
  },
  {
   "cell_type": "code",
   "execution_count": 36,
   "id": "06900d59",
   "metadata": {},
   "outputs": [
    {
     "data": {
      "text/plain": [
       "number_of_monitoring_stations\n",
       "1     181527\n",
       "2      16442\n",
       "3      15039\n",
       "4       8066\n",
       "6       4871\n",
       "5       2435\n",
       "7       2070\n",
       "8        936\n",
       "9        496\n",
       "12       419\n",
       "13       400\n",
       "11       395\n",
       "10       366\n",
       "36       214\n",
       "37       177\n",
       "38       175\n",
       "14       171\n",
       "35       150\n",
       "17       127\n",
       "24       126\n",
       "18       123\n",
       "34       105\n",
       "19       105\n",
       "23       102\n",
       "25        82\n",
       "22        78\n",
       "39        72\n",
       "33        66\n",
       "16        65\n",
       "20        64\n",
       "26        56\n",
       "21        51\n",
       "15        43\n",
       "32        40\n",
       "31        36\n",
       "27        31\n",
       "28        25\n",
       "30        19\n",
       "29        18\n",
       "40         2\n",
       "Name: count, dtype: int64"
      ]
     },
     "execution_count": 36,
     "metadata": {},
     "output_type": "execute_result"
    }
   ],
   "source": [
    "aqi['number_of_monitoring_stations'].value_counts()"
   ]
  },
  {
   "cell_type": "markdown",
   "id": "0cedbabd",
   "metadata": {},
   "source": [
    "### Explanation of `prominent_pollutants` in AQI\n",
    "\n",
    "#### 📌 What is a Prominent Pollutant?\n",
    "- A **prominent pollutant** is the **main pollutant** contributing the most to the Air Quality Index (AQI) at a given location and time.\n",
    "- It is the **dominant factor** in determining the AQI value.\n",
    "\n",
    "---\n",
    "\n",
    "#### 🧪 Common Prominent Pollutants:\n",
    "These are typically measured in AQI systems:\n",
    "\n",
    "- **PM2.5** – Fine particulate matter (less than 2.5 microns)\n",
    "- **PM10** – Coarse particulate matter (less than 10 microns)\n",
    "- **NO₂** – Nitrogen dioxide\n",
    "- **SO₂** – Sulfur dioxide\n",
    "- **CO** – Carbon monoxide\n",
    "- **O₃** – Ground-level ozone\n",
    "- **NH₃** – Ammonia\n",
    "- **Pb** – Lead\n",
    "\n",
    "---\n",
    "\n",
    "#### 📊 How Is It Determined?\n",
    "- At any given time, AQI is calculated for **each pollutant**.\n",
    "- The pollutant with the **highest AQI sub-index** is tagged as the **`prominent_pollutant`**.\n",
    "\n",
    "---\n",
    "\n",
    "#### 📍 Why Is It Important?\n",
    "\n",
    "- Helps identify the **key cause of pollution** in a location.\n",
    "- Useful for **policy-making** (e.g., restricting vehicles if NO₂ is prominent).\n",
    "- Helps individuals take **precautions** based on specific pollutants (e.g., masks for PM2.5, avoiding outdo\n"
   ]
  },
  {
   "cell_type": "code",
   "execution_count": 39,
   "id": "5571a30f",
   "metadata": {},
   "outputs": [
    {
     "data": {
      "text/plain": [
       "prominent_pollutants\n",
       "PM10                 111053\n",
       "PM2.5                 59670\n",
       "O3                    16202\n",
       "PM2.5,PM10            13199\n",
       "CO                    12867\n",
       "PM10,O3                3914\n",
       "SO2                    3815\n",
       "NO2                    3012\n",
       "PM10,CO                2658\n",
       "PM2.5,O3               2088\n",
       "PM10,NO2               1278\n",
       "O3,PM2.5,PM10          1019\n",
       "PM2.5,PM10,CO           710\n",
       "PM10,SO2                551\n",
       "CO,O3                   543\n",
       "PM10,O3,CO              418\n",
       "PM2.5,NO2               415\n",
       "PM10,PM2.5,NO2          281\n",
       "PM2.5,SO2               278\n",
       "CO,NO2                  274\n",
       "PM10,NO2,O3             216\n",
       "NO2,PM10,CO             191\n",
       "CO,SO2                  167\n",
       "NO2,O3                  139\n",
       "PM10,PM2.5,SO2          111\n",
       "SO2,O3                  109\n",
       "PM2.5,CO,O3              99\n",
       "PM10,CO,SO2              69\n",
       "NH3                      69\n",
       "PM10,SO2,O3              65\n",
       "NO2,CO,O3                49\n",
       "PM10,NO2,PM2.5,O3        43\n",
       "PM2.5,CO,NO2             40\n",
       "PM2.5,CO,SO2             36\n",
       "NO2,SO2                  34\n",
       "PM10,NO2,SO3             25\n",
       "PM2.5,SO2,O3             21\n",
       "SO3,CO,O3                15\n",
       "PM2.5,NO2,SO2            13\n",
       "NO2,SO2,CO                9\n",
       "NO2,O3,SO2                6\n",
       "PM2.5,NH3                 5\n",
       "PM10,NH3                  2\n",
       "PM10,NH3,O3               2\n",
       "PM2.5,NH3,O3              1\n",
       "PM10,NH3,CO               1\n",
       "NH3,CO,O3                 1\n",
       "O3,NH3                    1\n",
       "PM2.5,NH3,CO              1\n",
       "Name: count, dtype: int64"
      ]
     },
     "execution_count": 39,
     "metadata": {},
     "output_type": "execute_result"
    }
   ],
   "source": [
    "aqi['prominent_pollutants'].value_counts()"
   ]
  },
  {
   "cell_type": "code",
   "execution_count": 40,
   "id": "41c451d5",
   "metadata": {},
   "outputs": [],
   "source": [
    "# Split and explode\n",
    "aqi_exploded = aqi.assign(pollutant=aqi['prominent_pollutants'].str.split(',')).explode('pollutant')\n",
    "\n",
    "# Count frequencies\n",
    "pollutant_counts = aqi_exploded['pollutant'].value_counts()\n"
   ]
  },
  {
   "cell_type": "code",
   "execution_count": 42,
   "id": "605782a3",
   "metadata": {},
   "outputs": [
    {
     "data": {
      "text/html": [
       "<div>\n",
       "<style scoped>\n",
       "    .dataframe tbody tr th:only-of-type {\n",
       "        vertical-align: middle;\n",
       "    }\n",
       "\n",
       "    .dataframe tbody tr th {\n",
       "        vertical-align: top;\n",
       "    }\n",
       "\n",
       "    .dataframe thead th {\n",
       "        text-align: right;\n",
       "    }\n",
       "</style>\n",
       "<table border=\"1\" class=\"dataframe\">\n",
       "  <thead>\n",
       "    <tr style=\"text-align: right;\">\n",
       "      <th></th>\n",
       "      <th>date</th>\n",
       "      <th>state</th>\n",
       "      <th>area</th>\n",
       "      <th>number_of_monitoring_stations</th>\n",
       "      <th>prominent_pollutants</th>\n",
       "      <th>aqi_value</th>\n",
       "      <th>air_quality_status</th>\n",
       "      <th>unit</th>\n",
       "      <th>month</th>\n",
       "      <th>pollutant</th>\n",
       "    </tr>\n",
       "  </thead>\n",
       "  <tbody>\n",
       "    <tr>\n",
       "      <th>0</th>\n",
       "      <td>2025-04-30</td>\n",
       "      <td>Maharashtra</td>\n",
       "      <td>Amravati</td>\n",
       "      <td>2</td>\n",
       "      <td>PM10</td>\n",
       "      <td>78</td>\n",
       "      <td>Satisfactory</td>\n",
       "      <td>number_of_monitoring_stations in Absolute Numb...</td>\n",
       "      <td>4</td>\n",
       "      <td>PM10</td>\n",
       "    </tr>\n",
       "    <tr>\n",
       "      <th>1</th>\n",
       "      <td>2025-04-30</td>\n",
       "      <td>Bihar</td>\n",
       "      <td>Purnia</td>\n",
       "      <td>1</td>\n",
       "      <td>CO</td>\n",
       "      <td>56</td>\n",
       "      <td>Satisfactory</td>\n",
       "      <td>number_of_monitoring_stations in Absolute Numb...</td>\n",
       "      <td>4</td>\n",
       "      <td>CO</td>\n",
       "    </tr>\n",
       "    <tr>\n",
       "      <th>2</th>\n",
       "      <td>2025-04-30</td>\n",
       "      <td>Madhya Pradesh</td>\n",
       "      <td>Katni</td>\n",
       "      <td>1</td>\n",
       "      <td>O3</td>\n",
       "      <td>98</td>\n",
       "      <td>Satisfactory</td>\n",
       "      <td>number_of_monitoring_stations in Absolute Numb...</td>\n",
       "      <td>4</td>\n",
       "      <td>O3</td>\n",
       "    </tr>\n",
       "    <tr>\n",
       "      <th>3</th>\n",
       "      <td>2025-04-30</td>\n",
       "      <td>Chhattisgarh</td>\n",
       "      <td>Tumidih</td>\n",
       "      <td>1</td>\n",
       "      <td>PM10</td>\n",
       "      <td>103</td>\n",
       "      <td>Moderate</td>\n",
       "      <td>number_of_monitoring_stations in Absolute Numb...</td>\n",
       "      <td>4</td>\n",
       "      <td>PM10</td>\n",
       "    </tr>\n",
       "    <tr>\n",
       "      <th>4</th>\n",
       "      <td>2025-04-30</td>\n",
       "      <td>Assam</td>\n",
       "      <td>Byrnihat</td>\n",
       "      <td>1</td>\n",
       "      <td>PM2.5</td>\n",
       "      <td>61</td>\n",
       "      <td>Satisfactory</td>\n",
       "      <td>number_of_monitoring_stations in Absolute Numb...</td>\n",
       "      <td>4</td>\n",
       "      <td>PM2.5</td>\n",
       "    </tr>\n",
       "    <tr>\n",
       "      <th>...</th>\n",
       "      <td>...</td>\n",
       "      <td>...</td>\n",
       "      <td>...</td>\n",
       "      <td>...</td>\n",
       "      <td>...</td>\n",
       "      <td>...</td>\n",
       "      <td>...</td>\n",
       "      <td>...</td>\n",
       "      <td>...</td>\n",
       "      <td>...</td>\n",
       "    </tr>\n",
       "    <tr>\n",
       "      <th>235781</th>\n",
       "      <td>2022-04-01</td>\n",
       "      <td>Rajasthan</td>\n",
       "      <td>Jaipur</td>\n",
       "      <td>3</td>\n",
       "      <td>PM2.5,PM10</td>\n",
       "      <td>158</td>\n",
       "      <td>Moderate</td>\n",
       "      <td>number_of_monitoring_stations in Absolute Numb...</td>\n",
       "      <td>4</td>\n",
       "      <td>PM2.5</td>\n",
       "    </tr>\n",
       "    <tr>\n",
       "      <th>235781</th>\n",
       "      <td>2022-04-01</td>\n",
       "      <td>Rajasthan</td>\n",
       "      <td>Jaipur</td>\n",
       "      <td>3</td>\n",
       "      <td>PM2.5,PM10</td>\n",
       "      <td>158</td>\n",
       "      <td>Moderate</td>\n",
       "      <td>number_of_monitoring_stations in Absolute Numb...</td>\n",
       "      <td>4</td>\n",
       "      <td>PM10</td>\n",
       "    </tr>\n",
       "    <tr>\n",
       "      <th>235782</th>\n",
       "      <td>2022-04-01</td>\n",
       "      <td>Maharashtra</td>\n",
       "      <td>Chandrapur</td>\n",
       "      <td>2</td>\n",
       "      <td>PM2.5</td>\n",
       "      <td>201</td>\n",
       "      <td>Poor</td>\n",
       "      <td>number_of_monitoring_stations in Absolute Numb...</td>\n",
       "      <td>4</td>\n",
       "      <td>PM2.5</td>\n",
       "    </tr>\n",
       "    <tr>\n",
       "      <th>235783</th>\n",
       "      <td>2022-04-01</td>\n",
       "      <td>Uttar Pradesh</td>\n",
       "      <td>Varanasi</td>\n",
       "      <td>4</td>\n",
       "      <td>PM10</td>\n",
       "      <td>128</td>\n",
       "      <td>Moderate</td>\n",
       "      <td>number_of_monitoring_stations in Absolute Numb...</td>\n",
       "      <td>4</td>\n",
       "      <td>PM10</td>\n",
       "    </tr>\n",
       "    <tr>\n",
       "      <th>235784</th>\n",
       "      <td>2022-04-01</td>\n",
       "      <td>Odisha</td>\n",
       "      <td>Brajrajnagar</td>\n",
       "      <td>1</td>\n",
       "      <td>O3</td>\n",
       "      <td>270</td>\n",
       "      <td>Poor</td>\n",
       "      <td>number_of_monitoring_stations in Absolute Numb...</td>\n",
       "      <td>4</td>\n",
       "      <td>O3</td>\n",
       "    </tr>\n",
       "  </tbody>\n",
       "</table>\n",
       "<p>268367 rows × 10 columns</p>\n",
       "</div>"
      ],
      "text/plain": [
       "             date           state          area  \\\n",
       "0      2025-04-30     Maharashtra      Amravati   \n",
       "1      2025-04-30           Bihar        Purnia   \n",
       "2      2025-04-30  Madhya Pradesh         Katni   \n",
       "3      2025-04-30    Chhattisgarh       Tumidih   \n",
       "4      2025-04-30           Assam      Byrnihat   \n",
       "...           ...             ...           ...   \n",
       "235781 2022-04-01       Rajasthan        Jaipur   \n",
       "235781 2022-04-01       Rajasthan        Jaipur   \n",
       "235782 2022-04-01     Maharashtra    Chandrapur   \n",
       "235783 2022-04-01   Uttar Pradesh      Varanasi   \n",
       "235784 2022-04-01          Odisha  Brajrajnagar   \n",
       "\n",
       "        number_of_monitoring_stations prominent_pollutants  aqi_value  \\\n",
       "0                                   2                 PM10         78   \n",
       "1                                   1                   CO         56   \n",
       "2                                   1                   O3         98   \n",
       "3                                   1                 PM10        103   \n",
       "4                                   1                PM2.5         61   \n",
       "...                               ...                  ...        ...   \n",
       "235781                              3           PM2.5,PM10        158   \n",
       "235781                              3           PM2.5,PM10        158   \n",
       "235782                              2                PM2.5        201   \n",
       "235783                              4                 PM10        128   \n",
       "235784                              1                   O3        270   \n",
       "\n",
       "       air_quality_status                                               unit  \\\n",
       "0            Satisfactory  number_of_monitoring_stations in Absolute Numb...   \n",
       "1            Satisfactory  number_of_monitoring_stations in Absolute Numb...   \n",
       "2            Satisfactory  number_of_monitoring_stations in Absolute Numb...   \n",
       "3                Moderate  number_of_monitoring_stations in Absolute Numb...   \n",
       "4            Satisfactory  number_of_monitoring_stations in Absolute Numb...   \n",
       "...                   ...                                                ...   \n",
       "235781           Moderate  number_of_monitoring_stations in Absolute Numb...   \n",
       "235781           Moderate  number_of_monitoring_stations in Absolute Numb...   \n",
       "235782               Poor  number_of_monitoring_stations in Absolute Numb...   \n",
       "235783           Moderate  number_of_monitoring_stations in Absolute Numb...   \n",
       "235784               Poor  number_of_monitoring_stations in Absolute Numb...   \n",
       "\n",
       "        month pollutant  \n",
       "0           4      PM10  \n",
       "1           4        CO  \n",
       "2           4        O3  \n",
       "3           4      PM10  \n",
       "4           4     PM2.5  \n",
       "...       ...       ...  \n",
       "235781      4     PM2.5  \n",
       "235781      4      PM10  \n",
       "235782      4     PM2.5  \n",
       "235783      4      PM10  \n",
       "235784      4        O3  \n",
       "\n",
       "[268367 rows x 10 columns]"
      ]
     },
     "execution_count": 42,
     "metadata": {},
     "output_type": "execute_result"
    }
   ],
   "source": [
    "aqi_exploded"
   ]
  },
  {
   "cell_type": "markdown",
   "id": "af82e922",
   "metadata": {},
   "source": [
    "### What is `aqi_value`?\n",
    "\n",
    "- `aqi_value` stands for **Air Quality Index (AQI)** value.\n",
    "- It is a **numerical score** that represents the **overall level of air pollution** at a specific time and location.\n",
    "\n",
    "---\n",
    "\n",
    "### 📏 AQI Value Scale (India – CPCB Standard):\n",
    "\n",
    "| AQI Value Range | AQI Category     | Health Impact                          |\n",
    "|------------------|------------------|----------------------------------------|\n",
    "| 0 – 50           | Good             | Minimal impact                         |\n",
    "| 51 – 100         | Satisfactory     | Minor breathing discomfort             |\n",
    "| 101 – 200        | Moderate         | Breathing discomfort for sensitive groups |\n",
    "| 201 – 300        | Poor             | Breathing issues for people with lungs or heart conditions |\n",
    "| 301 – 400        | Very Poor        | Respiratory illness on prolonged exposure |\n",
    "| 401 – 500        | Severe           | Affects healthy people and seriously impacts sensitive groups |\n",
    "\n",
    "> 📌 `aqi_value` is often derived from the **prominent pollutant**'s sub-index.\n",
    "\n",
    "---\n",
    "\n",
    "### 🧪 How is `aqi_value` Calculated?\n",
    "\n",
    "- AQI is calculated from **pollutant concentration levels** such as PM2.5, PM10, NO₂, etc.\n",
    "- The **highest sub-index** among these pollutants determines the **final `aqi_value`**.\n",
    "- Formulae and breakpoints are defined by environmental agencies (e.g., CPCB in India).\n",
    "\n",
    "---\n",
    "\n",
    "### 📊 Example:\n",
    "\n",
    "If at a given time, pollutant sub-index values are:\n",
    "\n",
    "- PM2.5 = 180  \n",
    "- PM10 = 120  \n",
    "- O₃ = 90  \n",
    "\n",
    "Then:\n",
    "\n",
    "```python\n",
    "aqi_value = 180\n",
    "prominent_pollutant = 'PM2.5'\n",
    "aqi_category = 'Moderate'\n"
   ]
  },
  {
   "cell_type": "code",
   "execution_count": 44,
   "id": "6798a3df",
   "metadata": {},
   "outputs": [
    {
     "data": {
      "text/plain": [
       "aqi_value\n",
       "46     2593\n",
       "50     2535\n",
       "58     2293\n",
       "48     2260\n",
       "62     2197\n",
       "       ... \n",
       "466       1\n",
       "478       1\n",
       "488       1\n",
       "458       1\n",
       "464       1\n",
       "Name: count, Length: 472, dtype: int64"
      ]
     },
     "execution_count": 44,
     "metadata": {},
     "output_type": "execute_result"
    }
   ],
   "source": [
    "aqi['aqi_value'].value_counts()"
   ]
  },
  {
   "cell_type": "code",
   "execution_count": 45,
   "id": "9f9224ab",
   "metadata": {},
   "outputs": [
    {
     "data": {
      "text/plain": [
       "Index(['date', 'state', 'area', 'number_of_monitoring_stations',\n",
       "       'prominent_pollutants', 'aqi_value', 'air_quality_status', 'unit',\n",
       "       'month'],\n",
       "      dtype='object')"
      ]
     },
     "execution_count": 45,
     "metadata": {},
     "output_type": "execute_result"
    }
   ],
   "source": [
    "aqi.columns"
   ]
  },
  {
   "cell_type": "markdown",
   "id": "e652a8f6",
   "metadata": {},
   "source": [
    "### air_quality_status\n",
    "I do belive that because of previous explaintion you get what is air_quality_status\n"
   ]
  },
  {
   "cell_type": "code",
   "execution_count": 46,
   "id": "166739ab",
   "metadata": {},
   "outputs": [
    {
     "data": {
      "text/plain": [
       "air_quality_status\n",
       "Satisfactory    88897\n",
       "Moderate        77537\n",
       "Good            41971\n",
       "Poor            21154\n",
       "Very Poor        5671\n",
       "Severe            555\n",
       "Name: count, dtype: int64"
      ]
     },
     "execution_count": 46,
     "metadata": {},
     "output_type": "execute_result"
    }
   ],
   "source": [
    "aqi['air_quality_status'].value_counts()"
   ]
  },
  {
   "cell_type": "code",
   "execution_count": 50,
   "id": "0a0be512",
   "metadata": {},
   "outputs": [
    {
     "data": {
      "text/plain": [
       "'number_of_monitoring_stations in Absolute Number, aqi_value in Indices'"
      ]
     },
     "execution_count": 50,
     "metadata": {},
     "output_type": "execute_result"
    }
   ],
   "source": [
    "aqi['unit'][0]"
   ]
  },
  {
   "cell_type": "code",
   "execution_count": 53,
   "id": "e8ca2045",
   "metadata": {},
   "outputs": [
    {
     "name": "stdout",
     "output_type": "stream",
     "text": [
      "number_of_monitoring_stations in Absolute Number, aqi_value in Indices\n",
      "number_of_monitoring_stations in Absolute Number, aqi_value in Indices\n",
      "number_of_monitoring_stations in Absolute Number, aqi_value in Indices\n",
      "number_of_monitoring_stations in Absolute Number, aqi_value in Indices\n",
      "number_of_monitoring_stations in Absolute Number, aqi_value in Indices\n"
     ]
    }
   ],
   "source": [
    "for i in range(5):\n",
    "    print(aqi['unit'][i])"
   ]
  },
  {
   "cell_type": "code",
   "execution_count": 54,
   "id": "c562bc08",
   "metadata": {},
   "outputs": [
    {
     "data": {
      "text/plain": [
       "unit\n",
       "number_of_monitoring_stations in Absolute Number, aqi_value in Indices    235785\n",
       "Name: count, dtype: int64"
      ]
     },
     "execution_count": 54,
     "metadata": {},
     "output_type": "execute_result"
    }
   ],
   "source": [
    "aqi['unit'].value_counts()"
   ]
  },
  {
   "cell_type": "code",
   "execution_count": 55,
   "id": "89027a50",
   "metadata": {},
   "outputs": [],
   "source": [
    "aqi.drop(columns=['unit'], inplace=True)\n"
   ]
  },
  {
   "cell_type": "code",
   "execution_count": 56,
   "id": "02d60201",
   "metadata": {},
   "outputs": [
    {
     "data": {
      "text/html": [
       "<div>\n",
       "<style scoped>\n",
       "    .dataframe tbody tr th:only-of-type {\n",
       "        vertical-align: middle;\n",
       "    }\n",
       "\n",
       "    .dataframe tbody tr th {\n",
       "        vertical-align: top;\n",
       "    }\n",
       "\n",
       "    .dataframe thead th {\n",
       "        text-align: right;\n",
       "    }\n",
       "</style>\n",
       "<table border=\"1\" class=\"dataframe\">\n",
       "  <thead>\n",
       "    <tr style=\"text-align: right;\">\n",
       "      <th></th>\n",
       "      <th>date</th>\n",
       "      <th>state</th>\n",
       "      <th>area</th>\n",
       "      <th>number_of_monitoring_stations</th>\n",
       "      <th>prominent_pollutants</th>\n",
       "      <th>aqi_value</th>\n",
       "      <th>air_quality_status</th>\n",
       "      <th>month</th>\n",
       "    </tr>\n",
       "  </thead>\n",
       "  <tbody>\n",
       "    <tr>\n",
       "      <th>0</th>\n",
       "      <td>2025-04-30</td>\n",
       "      <td>Maharashtra</td>\n",
       "      <td>Amravati</td>\n",
       "      <td>2</td>\n",
       "      <td>PM10</td>\n",
       "      <td>78</td>\n",
       "      <td>Satisfactory</td>\n",
       "      <td>4</td>\n",
       "    </tr>\n",
       "    <tr>\n",
       "      <th>1</th>\n",
       "      <td>2025-04-30</td>\n",
       "      <td>Bihar</td>\n",
       "      <td>Purnia</td>\n",
       "      <td>1</td>\n",
       "      <td>CO</td>\n",
       "      <td>56</td>\n",
       "      <td>Satisfactory</td>\n",
       "      <td>4</td>\n",
       "    </tr>\n",
       "    <tr>\n",
       "      <th>2</th>\n",
       "      <td>2025-04-30</td>\n",
       "      <td>Madhya Pradesh</td>\n",
       "      <td>Katni</td>\n",
       "      <td>1</td>\n",
       "      <td>O3</td>\n",
       "      <td>98</td>\n",
       "      <td>Satisfactory</td>\n",
       "      <td>4</td>\n",
       "    </tr>\n",
       "    <tr>\n",
       "      <th>3</th>\n",
       "      <td>2025-04-30</td>\n",
       "      <td>Chhattisgarh</td>\n",
       "      <td>Tumidih</td>\n",
       "      <td>1</td>\n",
       "      <td>PM10</td>\n",
       "      <td>103</td>\n",
       "      <td>Moderate</td>\n",
       "      <td>4</td>\n",
       "    </tr>\n",
       "    <tr>\n",
       "      <th>4</th>\n",
       "      <td>2025-04-30</td>\n",
       "      <td>Assam</td>\n",
       "      <td>Byrnihat</td>\n",
       "      <td>1</td>\n",
       "      <td>PM2.5</td>\n",
       "      <td>61</td>\n",
       "      <td>Satisfactory</td>\n",
       "      <td>4</td>\n",
       "    </tr>\n",
       "  </tbody>\n",
       "</table>\n",
       "</div>"
      ],
      "text/plain": [
       "        date           state      area  number_of_monitoring_stations  \\\n",
       "0 2025-04-30     Maharashtra  Amravati                              2   \n",
       "1 2025-04-30           Bihar    Purnia                              1   \n",
       "2 2025-04-30  Madhya Pradesh     Katni                              1   \n",
       "3 2025-04-30    Chhattisgarh   Tumidih                              1   \n",
       "4 2025-04-30           Assam  Byrnihat                              1   \n",
       "\n",
       "  prominent_pollutants  aqi_value air_quality_status  month  \n",
       "0                 PM10         78       Satisfactory      4  \n",
       "1                   CO         56       Satisfactory      4  \n",
       "2                   O3         98       Satisfactory      4  \n",
       "3                 PM10        103           Moderate      4  \n",
       "4                PM2.5         61       Satisfactory      4  "
      ]
     },
     "execution_count": 56,
     "metadata": {},
     "output_type": "execute_result"
    }
   ],
   "source": [
    "aqi.head()"
   ]
  },
  {
   "cell_type": "code",
   "execution_count": null,
   "id": "f362a11c",
   "metadata": {},
   "outputs": [],
   "source": []
  }
 ],
 "metadata": {
  "kernelspec": {
   "display_name": ".venv",
   "language": "python",
   "name": "python3"
  },
  "language_info": {
   "codemirror_mode": {
    "name": "ipython",
    "version": 3
   },
   "file_extension": ".py",
   "mimetype": "text/x-python",
   "name": "python",
   "nbconvert_exporter": "python",
   "pygments_lexer": "ipython3",
   "version": "3.13.4"
  }
 },
 "nbformat": 4,
 "nbformat_minor": 5
}
