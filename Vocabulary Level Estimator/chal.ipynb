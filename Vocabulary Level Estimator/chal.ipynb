{
 "cells": [
  {
   "cell_type": "code",
   "execution_count": 2,
   "id": "46c21436",
   "metadata": {},
   "outputs": [],
   "source": [
    "cefr_levels = ['A1', 'A2', 'B1', 'B2', 'C1', 'C2']\n",
    "level_to_numeric = {level: i for i, level in enumerate(cefr_levels)}"
   ]
  },
  {
   "cell_type": "code",
   "execution_count": 3,
   "id": "348057f8",
   "metadata": {},
   "outputs": [
    {
     "data": {
      "text/plain": [
       "{'A1': 0, 'A2': 1, 'B1': 2, 'B2': 3, 'C1': 4, 'C2': 5}"
      ]
     },
     "execution_count": 3,
     "metadata": {},
     "output_type": "execute_result"
    }
   ],
   "source": [
    "level_to_numeric"
   ]
  },
  {
   "cell_type": "code",
   "execution_count": null,
   "id": "32ae4e9c",
   "metadata": {},
   "outputs": [
    {
     "name": "stdout",
     "output_type": "stream",
     "text": [
      "0 \n",
      "\n",
      "1 \n",
      "\n",
      "2 \n",
      "\n",
      "3 \n",
      "\n",
      "4 \n",
      "\n",
      "5 \n",
      "\n"
     ]
    }
   ],
   "source": [
    "# for i, level in enumerate(cefr_levels):\n",
    "    # print(i, '\\n')\n",
    "    # print(level, '\\n')"
   ]
  },
  {
   "cell_type": "code",
   "execution_count": null,
   "id": "465017bf",
   "metadata": {},
   "outputs": [],
   "source": []
  }
 ],
 "metadata": {
  "kernelspec": {
   "display_name": ".venv",
   "language": "python",
   "name": "python3"
  },
  "language_info": {
   "codemirror_mode": {
    "name": "ipython",
    "version": 3
   },
   "file_extension": ".py",
   "mimetype": "text/x-python",
   "name": "python",
   "nbconvert_exporter": "python",
   "pygments_lexer": "ipython3",
   "version": "3.13.4"
  }
 },
 "nbformat": 4,
 "nbformat_minor": 5
}
