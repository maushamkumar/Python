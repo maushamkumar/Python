{
 "cells": [
  {
   "cell_type": "code",
   "execution_count": 1,
   "id": "dd8c70a0",
   "metadata": {},
   "outputs": [],
   "source": [
    "import json"
   ]
  },
  {
   "cell_type": "code",
   "execution_count": 2,
   "id": "d0cb970d",
   "metadata": {},
   "outputs": [],
   "source": [
    "def load_data():\n",
    "    with open('patients.json', 'r') as f: \n",
    "       data = json.load(f) \n",
    "       \n",
    "    return data"
   ]
  },
  {
   "cell_type": "code",
   "execution_count": 3,
   "id": "66cc1f6e",
   "metadata": {},
   "outputs": [],
   "source": [
    "data = load_data()"
   ]
  },
  {
   "cell_type": "code",
   "execution_count": 8,
   "id": "8451c01f",
   "metadata": {},
   "outputs": [
    {
     "name": "stdout",
     "output_type": "stream",
     "text": [
      "{'name': 'Ravi Mehta', 'city': 'Mumbai', 'age': 35, 'gender': 'male', 'height': 1.75, 'weight': 85, 'bmi': 27.76, 'verdict': 'Overweight'}\n"
     ]
    }
   ],
   "source": [
    "for i in data:\n",
    "    if i == \"P002\":\n",
    "        print(data[i])"
   ]
  },
  {
   "cell_type": "code",
   "execution_count": null,
   "id": "745b2cc3",
   "metadata": {},
   "outputs": [],
   "source": []
  }
 ],
 "metadata": {
  "kernelspec": {
   "display_name": ".venv",
   "language": "python",
   "name": "python3"
  },
  "language_info": {
   "codemirror_mode": {
    "name": "ipython",
    "version": 3
   },
   "file_extension": ".py",
   "mimetype": "text/x-python",
   "name": "python",
   "nbconvert_exporter": "python",
   "pygments_lexer": "ipython3",
   "version": "3.13.4"
  }
 },
 "nbformat": 4,
 "nbformat_minor": 5
}
